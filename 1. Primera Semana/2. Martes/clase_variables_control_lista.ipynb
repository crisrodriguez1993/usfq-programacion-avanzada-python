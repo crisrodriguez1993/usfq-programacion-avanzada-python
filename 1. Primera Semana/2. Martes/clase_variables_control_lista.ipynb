{
 "cells": [
  {
   "cell_type": "code",
   "execution_count": 83,
   "metadata": {},
   "outputs": [
    {
     "name": "stdout",
     "output_type": "stream",
     "text": [
      "\tRamiro\n",
      "Sandoval\n"
     ]
    }
   ],
   "source": [
    "# strings\n",
    "nombre = \"\\tRamiro\\nSandoval\"\n",
    "print(nombre)"
   ]
  },
  {
   "cell_type": "code",
   "execution_count": 84,
   "metadata": {},
   "outputs": [
    {
     "name": "stdout",
     "output_type": "stream",
     "text": [
      "Ramiro\n",
      "Sandoval\n"
     ]
    }
   ],
   "source": [
    "print(nombre.strip())"
   ]
  },
  {
   "cell_type": "code",
   "execution_count": 85,
   "metadata": {},
   "outputs": [
    {
     "name": "stdout",
     "output_type": "stream",
     "text": [
      "www.google.com\n",
      "https://www.google\n"
     ]
    }
   ],
   "source": [
    "url = \"https://www.google.com\"\n",
    "print(f\"{url.removeprefix('https://')}\")\n",
    "print(f\"{url.removesuffix('.com')}\")"
   ]
  },
  {
   "cell_type": "code",
   "execution_count": 86,
   "metadata": {},
   "outputs": [
    {
     "name": "stdout",
     "output_type": "stream",
     "text": [
      "numero_1+numero_2=17\n",
      "numero_1-numero_2=13\n",
      "numero_1*numero_2=30\n",
      "numero_1/numero_2=7.5\n",
      "numero_1**numero_2=225\n",
      "numero_1//numero_2=7\n",
      "numero_1%numero_2=1\n",
      "2+3*4=14\n",
      "(2+3)*4=20\n"
     ]
    }
   ],
   "source": [
    "# Numeros en Python\n",
    "# Enteros\n",
    "numero_1 = 15\n",
    "numero_2 = 2\n",
    "\n",
    "# Operaciones matematicas\n",
    "print(f\"{numero_1+numero_2=}\") # suma\n",
    "print(f\"{numero_1-numero_2=}\") # resta\n",
    "print(f\"{numero_1*numero_2=}\") # multiplicacion\n",
    "# division\n",
    "print(f\"{numero_1/numero_2=}\") # [el resultado de una division siempre es un float]\n",
    "print(f\"{numero_1**numero_2=}\") # exponenciacion\n",
    "print(f\"{numero_1//numero_2=}\") # cociente\n",
    "print(f\"{numero_1%numero_2=}\") # modulo\n",
    "\n",
    "'''\n",
    "Aplica el orden de operaciones\n",
    "1. Se interpreta las operaciones dentro de parentesis\n",
    "2. Multiplicacion, division, modulo y cociente\n",
    "3. Sumas y las restas\n",
    "'''\n",
    "\n",
    "print(f\"{2+3*4=}\")\n",
    "print(f\"{(2+3)*4=}\")"
   ]
  },
  {
   "cell_type": "code",
   "execution_count": 87,
   "metadata": {},
   "outputs": [
    {
     "name": "stdout",
     "output_type": "stream",
     "text": [
      "numero_3+2=3.5\n",
      "0.1+0.2=0.30\n"
     ]
    }
   ],
   "source": [
    "# Float -> referencia a punto flotante (a los numeros decimales)\n",
    "numero_3 = 1.5\n",
    "print(f\"{numero_3+2=}\")\n",
    "\n",
    "# Un error de precision debido a como representan los numeros decimales los computadores\n",
    "print(f\"{0.1+0.2=:.2f}\") # esperamos que sea 0.3 pero sale 0.30000000004\n",
    "# :.2f le indica a print que deseas ver 2 decimales en tu tipo de dato float (f)"
   ]
  },
  {
   "cell_type": "code",
   "execution_count": 88,
   "metadata": {},
   "outputs": [
    {
     "name": "stdout",
     "output_type": "stream",
     "text": [
      "14000000000\n",
      "1000\n"
     ]
    }
   ],
   "source": [
    "edad_universo = 14_000_000_000\n",
    "print(edad_universo)\n",
    "\n",
    "mil = 10_00\n",
    "print(mil)"
   ]
  },
  {
   "cell_type": "code",
   "execution_count": 89,
   "metadata": {},
   "outputs": [
    {
     "name": "stdout",
     "output_type": "stream",
     "text": [
      "x=0 y=5 z=10\n"
     ]
    }
   ],
   "source": [
    "# Asignacion multiple, una instruccion donde yo doy valores a varias variables al mismio tiempo\n",
    "x = 0 # asignacion simple\n",
    "\n",
    "x, y, z = 0, 5, 10 # x=0, y=5, z=10 \n",
    "# Recomendacion: intenten evitar la asignacion multiple porque es mas dificil de comentar\n",
    "x = 0 \n",
    "y = 5\n",
    "z = 10\n",
    "\n",
    "# Yo no puedo realizar lo siguiente\n",
    "# x, y, z = 0 -> TypeError: no puedo extrapolar el 0 a esas variables\n",
    "\n",
    "print(f\"{x=} {y=} {z=}\")"
   ]
  },
  {
   "cell_type": "code",
   "execution_count": 90,
   "metadata": {},
   "outputs": [],
   "source": [
    "'''\n",
    "Constante?\n",
    "Variables constantes: variables cuyo valor no cambia durante la ejecucion \n",
    "del programa.\n",
    "Python no tiene un mecanismo para declarar variables constantes\n",
    "Un acuerdo entre programadores para poder identificar las variables constantes\n",
    "Declarar el nombre de la variable todo en mayusculas\n",
    "'''\n",
    "PI = 3.1416"
   ]
  },
  {
   "cell_type": "code",
   "execution_count": 91,
   "metadata": {},
   "outputs": [
    {
     "name": "stdout",
     "output_type": "stream",
     "text": [
      "Usted es menor de edad!\n"
     ]
    }
   ],
   "source": [
    "# Instrucciones de Control: instrucciones que cambian el flujo de ejecucion de un programa\n",
    "\n",
    "''' \n",
    "if (condicionales)\n",
    "Operaciones logicas -> devolverte un tipo de dato bool (True/False)\n",
    "> mayor que\n",
    ">= mayor o igual que\n",
    "< menor que\n",
    "<= menor o igual que\n",
    "== igual\n",
    "!= diferente\n",
    "'''\n",
    "\n",
    "# Syntaxis: es la estructura del lenguaje, las reglas para que el interprete de python\n",
    "# nos entienda\n",
    "\n",
    "edad = 15\n",
    "# if condicion:\n",
    "#   (instrucciones si la condicion se cumple)\n",
    "# else:\n",
    "#   (instrucciones si la condicion no se cumple)\n",
    "\n",
    "if edad >= 18:\n",
    "    print(\"Usted es mayor de edad!\")\n",
    "else:\n",
    "    print(\"Usted es menor de edad!\")"
   ]
  },
  {
   "cell_type": "code",
   "execution_count": 92,
   "metadata": {},
   "outputs": [
    {
     "name": "stdout",
     "output_type": "stream",
     "text": [
      "Usted es menor de edad.\n",
      "Usted gana aproximdamente el salario basico\n"
     ]
    },
    {
     "data": {
      "text/plain": [
       "'\\nSwitch-case (Python no existe esta estructura)\\nSe puede replicar utilizando funciones\\n'"
      ]
     },
     "execution_count": 92,
     "metadata": {},
     "output_type": "execute_result"
    }
   ],
   "source": [
    "'''\n",
    "Condicional Multiple\n",
    "\n",
    "AND LOGICO (and) (&&)\n",
    "True and True = True\n",
    "True and False = False\n",
    "False and True = False\n",
    "False and False = False\n",
    "\n",
    "OR LOGICO (or) (||)\n",
    "True or True = True\n",
    "True or False = True\n",
    "False or True = True\n",
    "False or False = False\n",
    "'''\n",
    "\n",
    "# elif -> else if \n",
    "if edad >= 65:\n",
    "    print(\"Usted es de la tercera edad.\")\n",
    "elif edad < 65 and edad >= 18: # &&\n",
    "    print(\"Usted es mayor de edad.\")\n",
    "else:\n",
    "    print(\"Usted es menor de edad.\")\n",
    "\n",
    "salario = 500\n",
    "#if edad >= 18 and edad < 65 and salario > 300:\n",
    "#  Evaluacion de par en par empezando desde la izquierda\n",
    "# True and salario > 500\n",
    "# True and True -> True\n",
    "\n",
    "if 400 < salario <= 500:\n",
    "    print(\"Usted gana aproximdamente el salario basico\")\n",
    "\n",
    "'''\n",
    "Switch-case (Python no existe esta estructura)\n",
    "Se puede replicar utilizando funciones\n",
    "'''"
   ]
  },
  {
   "cell_type": "code",
   "execution_count": 93,
   "metadata": {},
   "outputs": [],
   "source": [
    "''' \n",
    "Lazos / Loops / Bucles: la ejecucion de un conjunto de instrucciones mientras una condicion\n",
    "se cumpla\n",
    "'''\n",
    "\n",
    "'''While Loop\n",
    "Syntaxis:\n",
    "\n",
    "while condicion:\n",
    "    (el conjunto de instrucciones que se van a repetir mientras la condicion sea true)\n",
    "\n",
    "Primero verificar la condicion,\n",
    "Despues ejecutar las instrucciones\n",
    "'''\n",
    "\n",
    "contador = 0\n",
    "while contador < 0:\n",
    "    print(contador)\n",
    "    contador += 1 # contador = contador + 1 # Esto no existe en Python contador++ contador--"
   ]
  },
  {
   "cell_type": "code",
   "execution_count": 94,
   "metadata": {},
   "outputs": [
    {
     "name": "stdout",
     "output_type": "stream",
     "text": [
      "Version 1\n",
      "0\n",
      "1\n",
      "2\n",
      "3\n",
      "Version 2\n",
      "10\n",
      "11\n",
      "12\n",
      "13\n",
      "14\n",
      "Version 3\n",
      "1\n",
      "3\n",
      "5\n",
      "7\n",
      "9\n",
      "Version 4\n",
      "0\n",
      "-1\n",
      "-2\n",
      "-3\n",
      "-4\n",
      "-5\n",
      "-6\n",
      "-7\n",
      "-8\n",
      "-9\n"
     ]
    }
   ],
   "source": [
    "'''\n",
    "For loops\n",
    "Syntaxis:\n",
    "\n",
    "for variable in iterable:\n",
    "    (instrucciones que quiero repetir)\n",
    "\n",
    "# Iterable: una estructura sobre la cual yo puedo iterar\n",
    " (a travesar los elementos presentes en la estructura)\n",
    "\n",
    "# Range me genera un iterable, range unicamente funciona para valores enteros\n",
    "range(start, stop) # default step=1\n",
    "range(stop) # default start=0, step=1\n",
    "range(start, stop, step)\n",
    "'''\n",
    "\n",
    "print(\"Version 1\")\n",
    "for i in range(4):\n",
    "    print(i)\n",
    "\n",
    "print(\"Version 2\")\n",
    "for j in range(10, 15):\n",
    "    print(j)\n",
    "\n",
    "print(\"Version 3\")\n",
    "for k in range(1, 10, 2):\n",
    "    print(k)\n",
    "\n",
    "print(\"Version 4\")\n",
    "for k in range(0, -10, -1):\n",
    "    print(k)"
   ]
  },
  {
   "cell_type": "code",
   "execution_count": 95,
   "metadata": {},
   "outputs": [
    {
     "name": "stdout",
     "output_type": "stream",
     "text": [
      "En el texto Hombres de Negro 3 hay 2 r's\n",
      "H\n",
      "e\n",
      "['H', 'o', 'm', 'b', 'r', 'e', 's', ' ', 'd', 'e', ' ', 'N', 'e', 'g', 'r', 'o', ' ', '3']\n"
     ]
    }
   ],
   "source": [
    "'''\n",
    "Listas\n",
    "Una lista es una coleccion de items en un orden particular (conserva el orden de insercion)\n",
    "Se puede hacer una lista que combine varios tipos de datos (floats, ints, strings, bool)\n",
    "Pueden ayudar a representar estructuras de datos como queue y los stacks\n",
    "No hay control sobre valores duplicados\n",
    "Son dinamicas (pueden crecer/disminuir en tamaño)\n",
    "\n",
    "* Declaro una lista:\n",
    "nombre_lista = [elemento1, elemento2, ... , elementoN]\n",
    "nombre_lista = [] # lista vacia\n",
    "\n",
    "* Acceso a los elementos se realiza utilizando el indice de los elementos\n",
    "Es que el indice empieza en [0, n_elementos)\n",
    "\n",
    "el_nombre_la_lista[indice]\n",
    "\n",
    "* Modificar valores en una lista\n",
    "el_nombre_la_lista[indice] = valor\n",
    "'''\n",
    "\n",
    "'''\n",
    "String -> una cadena de caracteres (iterable) una lista de caracteres\n",
    "'''\n",
    "\n",
    "texto = \"Hombres de Negro 3\"\n",
    "cantidad_r = 0\n",
    "for letra in texto:\n",
    "    if letra == \"r\":\n",
    "        cantidad_r += 1\n",
    "\n",
    "print(f\"En el texto {texto} hay {cantidad_r} r's\")\n",
    "\n",
    "print(texto[0]) # indice 0/elemento 1 -> H\n",
    "print(texto[5]) # indice 5/elemento 6 -> e\n",
    "\n",
    "print(list(texto))\n"
   ]
  },
  {
   "cell_type": "code",
   "execution_count": 96,
   "metadata": {},
   "outputs": [
    {
     "name": "stdout",
     "output_type": "stream",
     "text": [
      "[0, 1, 2, 3, 4]\n",
      "Hyundai\n",
      "Hyundai\n",
      "Kia\n",
      "Ford\n",
      "Honda\n",
      "Toyota\n"
     ]
    }
   ],
   "source": [
    "# Definir una lista nombre_lista = []\n",
    "lista_secuencia = list(range(0, 5)) # casting/transformacion a una lista\n",
    "print(lista_secuencia)\n",
    "\n",
    "marcas_carros = [\"Hyundai\", \"Kia\", \"Ford\", \"Honda\", \"Toyota\"] # [0, 4]\n",
    "print(marcas_carros[0])\n",
    "\n",
    "# For loop\n",
    "for marca in marcas_carros:\n",
    "    print(marca)"
   ]
  },
  {
   "cell_type": "code",
   "execution_count": 97,
   "metadata": {},
   "outputs": [
    {
     "name": "stdout",
     "output_type": "stream",
     "text": [
      "['Hyundai', 'Kia', 'Ford', 'Honda', 'Toyota', 'BMW']\n"
     ]
    }
   ],
   "source": [
    "# Agregar a la lista nombre_la_lista.append(valor)\n",
    "# Append añade un elemento al final de la lista\n",
    "marcas_carros.append(\"BMW\")\n",
    "print(marcas_carros)"
   ]
  },
  {
   "cell_type": "code",
   "execution_count": 98,
   "metadata": {},
   "outputs": [
    {
     "name": "stdout",
     "output_type": "stream",
     "text": [
      "['Hyundai', 'Kia', 'Lexus', 'Honda', 'Toyota', 'BMW']\n"
     ]
    }
   ],
   "source": [
    "# Reemplazar el valor en el indice 2\n",
    "marcas_carros[2] = \"Lexus\"\n",
    "print(marcas_carros)"
   ]
  },
  {
   "cell_type": "code",
   "execution_count": 99,
   "metadata": {},
   "outputs": [
    {
     "name": "stdout",
     "output_type": "stream",
     "text": [
      "BMW\n",
      "Honda\n"
     ]
    }
   ],
   "source": [
    "# [-1] -> ultimo valor en la lista\n",
    "print(marcas_carros[-1])\n",
    "\n",
    "# [-3] -> penultimo valor en la lista\n",
    "print(marcas_carros[-3])"
   ]
  },
  {
   "cell_type": "code",
   "execution_count": 100,
   "metadata": {},
   "outputs": [
    {
     "name": "stdout",
     "output_type": "stream",
     "text": [
      "['Hyundai', 'Kia', 'Jaguar', 'Lexus', 'Honda', 'Toyota', 'BMW']\n"
     ]
    }
   ],
   "source": [
    "marcas_carros.insert(2, \"Jaguar\") # añade el valor antes del indice especificado\n",
    "print(marcas_carros)"
   ]
  },
  {
   "cell_type": "code",
   "execution_count": 101,
   "metadata": {},
   "outputs": [
    {
     "name": "stdout",
     "output_type": "stream",
     "text": [
      "['Kia', 'Jaguar', 'Lexus', 'Honda', 'Toyota', 'BMW']\n"
     ]
    }
   ],
   "source": [
    "# Elimino un elemento de la lista de forma permanente\n",
    "# No tengo acceso al valor eliminado\n",
    "del marcas_carros[0]\n",
    "print(marcas_carros)"
   ]
  },
  {
   "cell_type": "code",
   "execution_count": 102,
   "metadata": {},
   "outputs": [
    {
     "name": "stdout",
     "output_type": "stream",
     "text": [
      "valor_eliminado='BMW' Lista actual: ['Kia', 'Jaguar', 'Lexus', 'Honda', 'Toyota']\n"
     ]
    }
   ],
   "source": [
    "# Eliminar un elemento de la lista pero me interesa conocer el valor que acabo de eliminar \n",
    "# \"extraccion\"\n",
    "# marcas_carros.pop() -> # me da el ultimo elemento de la lista\n",
    "\n",
    "valor_eliminado = marcas_carros.pop()\n",
    "print(f\"{valor_eliminado=} Lista actual: {marcas_carros}\")"
   ]
  },
  {
   "cell_type": "code",
   "execution_count": 103,
   "metadata": {},
   "outputs": [
    {
     "name": "stdout",
     "output_type": "stream",
     "text": [
      "valor_eliminado='Kia' Lista actual: ['Jaguar', 'Lexus', 'Honda', 'Toyota']\n"
     ]
    }
   ],
   "source": [
    "# marcas_carros.pop(indice) -> # me da el elemento en ese indice\n",
    "valor_eliminado = marcas_carros.pop(0)\n",
    "print(f\"{valor_eliminado=} Lista actual: {marcas_carros}\")"
   ]
  },
  {
   "cell_type": "code",
   "execution_count": 107,
   "metadata": {},
   "outputs": [
    {
     "name": "stdout",
     "output_type": "stream",
     "text": [
      "valor_a_eliminar='Jaguar' Lista actual: ['Lexus', 'Honda', 'Toyota', 'Jaguar']\n"
     ]
    }
   ],
   "source": [
    "# Cuando conozco el valor del elemento que quiero eliminar pero no conozco su indice\n",
    "# Elimina la primera coiuncidencia, en caso de tener duplicados, tendre que hacer un for loop\n",
    "# marcas_carros.remove(valor)\n",
    "\n",
    "marcas_carros = ['Jaguar', 'Lexus', 'Honda', 'Toyota', 'Jaguar']\n",
    "\n",
    "valor_a_eliminar = \"Jaguar\"\n",
    "marcas_carros.remove(\"Jaguar\")\n",
    "print(f\"{valor_a_eliminar=} Lista actual: {marcas_carros}\")"
   ]
  },
  {
   "cell_type": "code",
   "execution_count": 111,
   "metadata": {},
   "outputs": [
    {
     "name": "stdout",
     "output_type": "stream",
     "text": [
      "True\n",
      "[5.6, 7, 8, 10, 'Hola', 50]\n"
     ]
    }
   ],
   "source": [
    "lista = [5.6, 7, 8, 10, \"Hola\"]\n",
    "# condicion de pertenencia\n",
    "# valor in iterable # si el valor esta presente\n",
    "# valor not in iterable # si el valor no esta presente\n",
    "\n",
    "if 10 in lista: # busqueda lineal\n",
    "    print(True)\n",
    "\n",
    "if 50 not in lista:\n",
    "    lista.append(50)\n",
    "\n",
    "print(lista)"
   ]
  },
  {
   "cell_type": "code",
   "execution_count": 133,
   "metadata": {},
   "outputs": [
    {
     "name": "stdout",
     "output_type": "stream",
     "text": [
      "5.6\n",
      "7\n",
      "8\n",
      "10\n",
      "Hola\n",
      "50\n",
      "80.6\n"
     ]
    }
   ],
   "source": [
    "suma = 0\n",
    "for elemento in lista:\n",
    "    print(elemento)\n",
    "    if type(elemento) is not str:\n",
    "        suma += elemento\n",
    "\n",
    "print(suma)\n",
    "# type() nos devuelve el tipo de dato de la variable"
   ]
  },
  {
   "cell_type": "code",
   "execution_count": 122,
   "metadata": {},
   "outputs": [
    {
     "name": "stdout",
     "output_type": "stream",
     "text": [
      "7\n",
      "63.5\n",
      "Promedio: 9.07\n",
      "Elemento 1: 10\n",
      "Elemento 2: 9\n",
      "Elemento 3: 10\n",
      "Elemento 4: 8.5\n",
      "Elemento 5: 7.5\n",
      "Elemento 6: 9\n",
      "Elemento 7: 9.5\n"
     ]
    }
   ],
   "source": [
    "calificaciones = [10, 9, 10, 8.5, 7.5, 9, 9.5]\n",
    "print(len(calificaciones)) # devolverme el numero de elementos presentes en la lista\n",
    "print(sum(calificaciones)) # devuelve la suma de los elementos en la lista\n",
    "\n",
    "print(f\"Promedio: {sum(calificaciones)/len(calificaciones):.2f}\") \n",
    "\n",
    "for i in range(len(calificaciones)): # range(7) -> [0, 1, 2, 3, 4, 5, 6]\n",
    "    print(f\"Elemento {i+1}: {calificaciones[i]}\")"
   ]
  },
  {
   "cell_type": "code",
   "execution_count": 137,
   "metadata": {},
   "outputs": [
    {
     "name": "stdout",
     "output_type": "stream",
     "text": [
      "Palabra: hombres\n",
      "h\n",
      "o\n",
      "m\n",
      "b\n",
      "r\n",
      "e\n",
      "s\n",
      "Palabra: blanco\n",
      "b\n",
      "l\n",
      "a\n",
      "n\n",
      "c\n",
      "o\n",
      "Palabra: negro\n",
      "n\n",
      "e\n",
      "g\n",
      "r\n",
      "o\n",
      "Palabra: computador\n",
      "c\n",
      "o\n",
      "m\n",
      "p\n",
      "u\n",
      "t\n",
      "a\n",
      "d\n",
      "o\n",
      "r\n",
      "3\n"
     ]
    }
   ],
   "source": [
    "lista_palabras = ['hombres', 'blanco', 'negro', 'computador']\n",
    "numero_de_r = 0\n",
    "\n",
    "for palabra in lista_palabras:\n",
    "    print(f\"Palabra: {palabra}\")\n",
    "    for letra in palabra:\n",
    "        print(letra)\n",
    "        if letra == \"r\":\n",
    "            numero_de_r += 1\n",
    "\n",
    "print(numero_de_r)"
   ]
  }
 ],
 "metadata": {
  "kernelspec": {
   "display_name": "Python 3",
   "language": "python",
   "name": "python3"
  },
  "language_info": {
   "codemirror_mode": {
    "name": "ipython",
    "version": 3
   },
   "file_extension": ".py",
   "mimetype": "text/x-python",
   "name": "python",
   "nbconvert_exporter": "python",
   "pygments_lexer": "ipython3",
   "version": "3.11.2"
  }
 },
 "nbformat": 4,
 "nbformat_minor": 2
}
