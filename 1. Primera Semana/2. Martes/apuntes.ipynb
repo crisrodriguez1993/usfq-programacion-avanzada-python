{
 "cells": [
  {
   "cell_type": "code",
   "execution_count": 12,
   "metadata": {},
   "outputs": [
    {
     "name": "stdout",
     "output_type": "stream",
     "text": [
      "numero_3+2=3.5\n",
      "Usted es mayor de edad\n"
     ]
    }
   ],
   "source": [
    "numero_3 = 1.5\n",
    "\n",
    "print(f\"{numero_3+2=}\")\n",
    "\n",
    "\n",
    "# Asifnación multiple:\n",
    "\n",
    "x, y, z = 0,5,10 # x=0, y=5, z=10\n",
    "\n",
    "#Evitar la asignación múltiple porque es más dificil de comentar\n",
    "\n",
    "x = 0 # Se permite comentar por línea.\n",
    "y = 5 #\n",
    "\n",
    "\n",
    "#x,y,z = 0 # esto no es posible\n",
    "\n",
    "'''\n",
    "# Variables constantes: varible cuyo valor no cambia en el tiempo.\n",
    "# Python no tiene un mecanismo para decalr variables constantes \n",
    "# Existe un acuerdo entre programadores para identificar una variable Constante: Declarar el nombre de la variable en Mayúsculas.\n",
    "'''\n",
    "PI = 3.1416 # variable constante\n",
    "\n",
    "## Instrucciones de control: instrucciones que cambian el flujo de ejecución de un programa\n",
    "\n",
    "'''\n",
    "if (condicionales)\n",
    "\n",
    "Operaciones Lógicas -> devolverte un tipo de dato booleano (true / false)\n",
    "\n",
    "> mayor que\n",
    ">= mayor o igual que\n",
    "< menor que\n",
    "<= menor igual que\n",
    "== igual\n",
    "!= diferente\n",
    "\n",
    "'''\n",
    "\n",
    "edad = 20\n",
    "# if condición:\n",
    "# (instrucciones si la condición se cumple)\n",
    "# else\n",
    "# (isntrucciones si la condición no se cumple)\n",
    "\n",
    "if edad >= 18:\n",
    "        print(\"Usted es mayor de edad\")\n",
    "else:\n",
    "        print(\"Usted es menor de edad\")\n"
   ]
  },
  {
   "cell_type": "code",
   "execution_count": 11,
   "metadata": {},
   "outputs": [
    {
     "name": "stdout",
     "output_type": "stream",
     "text": [
      "Usted es menor de edad\n"
     ]
    }
   ],
   "source": [
    "''' \n",
    "AND LOGICO\n",
    "\n",
    "True and True = True\n",
    "True and False = False\n",
    "False and True = False\n",
    "False and False = False\n",
    "\n",
    "OR LOGICO\n",
    "\n",
    "True and True = True\n",
    "True and False = True\n",
    "False and True = True\n",
    "False and False = False\n",
    "'''\n",
    "\n",
    "if edad >= 65:\n",
    "        print(\"Usted es mayor de edad\")\n",
    "elif edad < 65 and edad >= 18: # &&\n",
    "        print(\"Usted es mayor de edad.\")\n",
    "else:\n",
    "        print(\"Usted es menor de edad\")\n",
    "\n",
    "## Switch-case (Python no existe esta estructura)\n",
    "## Se puede replicar utilizando funciones \n",
    "\n",
    "# Nomenclatura de un if\n",
    "\n",
    "if 18 < edad <=65:\n",
    "        print(\"Usted es mayor de edad\")"
   ]
  },
  {
   "cell_type": "code",
   "execution_count": 8,
   "metadata": {},
   "outputs": [
    {
     "data": {
      "text/plain": [
       "''"
      ]
     },
     "execution_count": 8,
     "metadata": {},
     "output_type": "execute_result"
    }
   ],
   "source": [
    "''''''"
   ]
  },
  {
   "cell_type": "code",
   "execution_count": 9,
   "metadata": {},
   "outputs": [
    {
     "name": "stdout",
     "output_type": "stream",
     "text": [
      "0\n",
      "1\n",
      "2\n",
      "3\n",
      "4\n",
      "5\n",
      "6\n",
      "7\n",
      "8\n",
      "9\n"
     ]
    }
   ],
   "source": [
    "'''\n",
    "Lazos / Loops / bucles: la ejecución de un conjunto de instrucciones mientras una condición se cumple\n",
    "\n",
    "While Loop\n",
    "\n",
    "Syntaxis:\n",
    "\n",
    "while condicion: el conjunto de isntrucciones que se van a repetir mientas la condición sea true\n",
    "\n",
    "'''\n",
    "\n",
    "contador = 0\n",
    "\n",
    "while contador < 10:\n",
    "    print(contador)\n",
    "    contador += 1 # contador ) contador +1  | Esto no existe en Python contador++ ó contador--"
   ]
  },
  {
   "cell_type": "code",
   "execution_count": 13,
   "metadata": {},
   "outputs": [
    {
     "name": "stdout",
     "output_type": "stream",
     "text": [
      "1\n",
      "3\n",
      "5\n",
      "7\n",
      "9\n"
     ]
    }
   ],
   "source": [
    "'''\n",
    "For loop\n",
    "\n",
    "range(start)\n",
    "range(start, stop)\n",
    "ranfe (start, stop, step)\n",
    "'''\n",
    "\n",
    "for i in range(1,10,2):\n",
    "    print(i)"
   ]
  },
  {
   "cell_type": "code",
   "execution_count": 14,
   "metadata": {},
   "outputs": [
    {
     "name": "stdout",
     "output_type": "stream",
     "text": [
      "h\n",
      "o\n",
      "m\n",
      "b\n",
      "r\n",
      "e\n",
      "s\n",
      " \n",
      "d\n",
      "e\n",
      " \n",
      "n\n",
      "e\n",
      "g\n",
      "r\n",
      "o\n"
     ]
    }
   ],
   "source": [
    "# Listas\n",
    "\n",
    "'''\n",
    "Una lista es una colección de items en un orden en particular (conserva el orden de insercción)\n",
    "Se puede hacer una lista que combine varios tipos de datos (floats, ints, string, bool)\n",
    "Pueden ayudar a representar estructuras de datos como queue y los stacks\n",
    "\n",
    "Declaro una lista:\n",
    "nombre_lista = [elemento1, elemento2, ..., elementoN]\n",
    "nombre_lista_vacia = [] # lista vacia\n",
    "\n",
    "Acceso a los elementos se realiza utilizando el indice de los elementos\n",
    "Es que los indices empieza 0\n",
    "\n",
    "el_nombre_la_lista[indice]\n",
    "\n",
    "* Modificar valores en una lista\n",
    "el_nombre_lista = valor\n",
    "\n",
    "String -> una cadena de caracteres (iterable)\n",
    "\n",
    "Las listas son dinámicas: pueden incrementar o disminuir el tamaño de la lista\n",
    "\n",
    "'''\n",
    "\n",
    "texto= \"hombres de negro\"\n",
    "\n",
    "'''\n",
    "for letra in texto:\n",
    "    if letra = \"r\":\n",
    "        cantidad_r += 1\n",
    "    print(f\"En el texto hay\")\n",
    "'''"
   ]
  },
  {
   "cell_type": "code",
   "execution_count": 20,
   "metadata": {},
   "outputs": [
    {
     "name": "stdout",
     "output_type": "stream",
     "text": [
      "[0, 1]\n",
      "Hyndai\n",
      "Hyndai\n",
      "Toyota\n",
      "Honda\n",
      "['Hyndai', 'Lexus', 'Honda', 'BMW']\n",
      "Honda\n"
     ]
    }
   ],
   "source": [
    "# Definir una lista nombre_lista = []\n",
    "lista_secuencia= list(range(0,2)) # casting/transformación a una lista\n",
    "print(lista_secuencia)\n",
    "     \n",
    "marcas_carros = [\"Hyndai\", \"Toyota\", \"Honda\"]\n",
    "\n",
    "print(marcas_carros[0])\n",
    "\n",
    "# For loop\n",
    "for marca in marcas_carros:\n",
    "    print(marca)\n",
    "\n",
    "# Agregar valores a la lista.\n",
    "# append añade un elemento al final de la lista\n",
    "marcas_carros.append(\"BMW\")\n",
    "\n",
    "# Añadir en una posición específica \n",
    "marcas_carros[1] = \"Lexus\"\n",
    "print(marcas_carros)\n",
    "\n",
    "\n",
    "print(marcas_carros[-2])\n",
    "\n"
   ]
  },
  {
   "cell_type": "code",
   "execution_count": 21,
   "metadata": {},
   "outputs": [
    {
     "name": "stdout",
     "output_type": "stream",
     "text": [
      "['Hyndai', 'Lexus', 'Jaguar', 'Honda', 'BMW']\n"
     ]
    }
   ],
   "source": [
    "marcas_carros.insert(2, \"Jaguar\")\n",
    "\n",
    "print(marcas_carros)"
   ]
  }
 ],
 "metadata": {
  "kernelspec": {
   "display_name": "Python 3",
   "language": "python",
   "name": "python3"
  },
  "language_info": {
   "codemirror_mode": {
    "name": "ipython",
    "version": 3
   },
   "file_extension": ".py",
   "mimetype": "text/x-python",
   "name": "python",
   "nbconvert_exporter": "python",
   "pygments_lexer": "ipython3",
   "version": "3.12.1"
  }
 },
 "nbformat": 4,
 "nbformat_minor": 2
}
