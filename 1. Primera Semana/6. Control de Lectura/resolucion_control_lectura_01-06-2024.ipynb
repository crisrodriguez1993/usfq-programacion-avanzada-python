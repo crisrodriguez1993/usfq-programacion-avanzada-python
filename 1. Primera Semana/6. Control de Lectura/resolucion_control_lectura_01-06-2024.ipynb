{
 "cells": [
  {
   "cell_type": "code",
   "execution_count": 4,
   "metadata": {},
   "outputs": [
    {
     "name": "stdout",
     "output_type": "stream",
     "text": [
      "Hola mundo 1\n",
      "Hola mundo original\n",
      "Hola mundo 2\n"
     ]
    }
   ],
   "source": [
    "# Literal A\n",
    "\n",
    "## 1. ¿Qué es un decorador en Python?\n",
    "\n",
    "'''\n",
    "Un decorador es una función de Python que permite modificar el compartamiento de otra función y mejorar el \n",
    "rendimiento. Encapsulada (wrapper) una función permitiendo añadir funcionalidades antes y después\n",
    "de la ejecución de la función original sin afectar su comportamiento.\n",
    "\n",
    "Es usada generalmente en marcos de trabajo (frameworks) de testing.\n",
    "'''\n",
    "\n",
    "## 2 ¿Cúal es la sintaxis de un decorador?\n",
    "\n",
    "def mi_decorador(funcion):\n",
    "\n",
    "    def decorador():\n",
    "        print(\"Hola mundo 1\")\n",
    "        funcion()\n",
    "        print(\"Hola mundo 2\")\n",
    "    return decorador\n",
    "\n",
    "@mi_decorador\n",
    "def funcion():\n",
    "    print(\"Hola mundo original\")\n",
    "\n",
    "funcion()\n"
   ]
  },
  {
   "cell_type": "code",
   "execution_count": 14,
   "metadata": {},
   "outputs": [
    {
     "name": "stdout",
     "output_type": "stream",
     "text": [
      "Tiempo de ejecución de quick_sort: 6.56 segundos\n"
     ]
    }
   ],
   "source": [
    "# Literal B\n",
    "\n",
    "import time\n",
    "import random\n",
    "\n",
    "datos = [(100 * random.random()) for i in range(1_000_000)]\n",
    "\n",
    "def medir_tiempo(f):\n",
    "    '''Mide el tiempo de ejecución de una función'''\n",
    "    def decorador(datos):\n",
    "        inicio = time.time()\n",
    "        resultado = f(datos)\n",
    "        fin = time.time()\n",
    "        print(f\"Tiempo de ejecución de {f.__name__}: {(fin - inicio):.2f} segundos\")\n",
    "        return resultado\n",
    "    return decorador\n",
    "\n",
    "@medir_tiempo\n",
    "def quick_sort(arr: list):\n",
    "    \"\"\"Util si queremos medir el tiempo de ejecucion con Decorators,\n",
    "    QuickSort es recursivo, si llamo al metodo quicksort directamente, \n",
    "    el decorator tambien es llamado recursivamente\"\"\"\n",
    "    arr_ordenado = quicksort(arr)\n",
    "    return arr_ordenado\n",
    "    \n",
    "def quicksort(arr: list):\n",
    "    \"\"\"Algoritmo de ordenamiento QuickSort (recursivo).\n",
    "    Retorna una lista ordenada con los elementos de arr.\\n\n",
    "    Best Time Complexity: O(n log n)\\n\n",
    "    Average Time Complexity: O(n log n)\\n\n",
    "    Worst Time Complexity: O(n^2) [ya esta ordenado]\n",
    "    \"\"\"\n",
    "    if len(arr) <= 1:\n",
    "        return arr\n",
    "    else: \n",
    "        pivot = arr[0]\n",
    "        left = [x for x in arr[1:] if x < pivot]\n",
    "        right = [x for x in arr[1:] if x >= pivot]\n",
    "        return quicksort(left) + [pivot] + quicksort(right)\n",
    "\n",
    "\n",
    "def timsort(arr: list):\n",
    "    \"\"\"Algoritmo de ordenamiento TimSort (default de sorted/sort).\n",
    "    Retorna una lista ordenada con los elementos de arr.\n",
    "    Best Time Complexity: O(n)\\n\n",
    "    Average Time Complexity: O(n log n)\\n\n",
    "    Worst Time Complexity: O(n log n)\n",
    "    \"\"\"\n",
    "    arr_ordenado = sorted(arr)\n",
    "    return arr_ordenado\n",
    "\n",
    "\n",
    "if __name__ == \"__main__\":\n",
    "    ordenado_ts = timsort(datos)\n",
    "    ordenado_qs = quick_sort(datos)\n",
    "\n"
   ]
  }
 ],
 "metadata": {
  "kernelspec": {
   "display_name": "Python 3",
   "language": "python",
   "name": "python3"
  },
  "language_info": {
   "codemirror_mode": {
    "name": "ipython",
    "version": 3
   },
   "file_extension": ".py",
   "mimetype": "text/x-python",
   "name": "python",
   "nbconvert_exporter": "python",
   "pygments_lexer": "ipython3",
   "version": "3.12.1"
  }
 },
 "nbformat": 4,
 "nbformat_minor": 2
}
