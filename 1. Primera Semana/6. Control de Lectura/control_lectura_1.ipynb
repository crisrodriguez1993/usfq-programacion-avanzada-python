{
 "cells": [
  {
   "cell_type": "markdown",
   "metadata": {},
   "source": [
    "## Ejercicio - Control de Lectura 1\n",
    "### Literal A\n",
    "Responda las siguientes preguntas:\n",
    "\n",
    "a) ¿Qué es un decorador en Python?\n",
    "\n",
    "b) ¿Cúal es la sintaxis de un decorador?"
   ]
  },
  {
   "cell_type": "markdown",
   "metadata": {},
   "source": [
    "Coloque aqui sus respuestas:\n",
    "\n",
    "a)\n",
    "\n",
    "b)"
   ]
  },
  {
   "cell_type": "markdown",
   "metadata": {},
   "source": [
    "### Literal B\n",
    "1. Se ha generado una lista llamada *datos*. Contiene 1_000_000 de números aleatorios entre 0 a 100.\n",
    "2. Se le ha proporcionado 2 algoritmos de ordenamiento (sort): *QuickSort* y *TimSort*.\n",
    "2. Crear una funcion *medir_tiempo(f)*, y llame a los algoritmos *QuickSort* y *TimSort* usando decorators.\n",
    "3. La funcion *medir_tiempo(f)* debe reportar el tiempo que tarda el algoritmo en ordenar los *datos*. Apoyese de la libreria *time* para tomar el tiempo de inicio y tiempo al final. Nota: time.time() te entrega el tiempo actual."
   ]
  },
  {
   "cell_type": "code",
   "execution_count": 16,
   "metadata": {},
   "outputs": [],
   "source": [
    "import time\n",
    "import random\n",
    "\n",
    "datos = [(100 * random.random()) for _ in range(1_000_000)]"
   ]
  },
  {
   "cell_type": "code",
   "execution_count": 17,
   "metadata": {},
   "outputs": [],
   "source": [
    "def medir_tiempo(f):\n",
    "    '''Mide el tiempo de ejecucion de una funcion'''\n",
    "    pass\n",
    "    # Esta será la función invocada con el decorador.\n",
    "    # Coloque aquí su codigo"
   ]
  },
  {
   "cell_type": "code",
   "execution_count": 18,
   "metadata": {},
   "outputs": [],
   "source": [
    "\n",
    "def quick_sort(arr: list):\n",
    "    \"\"\"Util si queremos medir el tiempo de ejecucion con Decorators,\n",
    "    QuickSort es recursivo, si llamo al metodo quicksort directamente, \n",
    "    el decorator tambien es llamado recursivamente\"\"\"\n",
    "    arr_ordenado = quicksort(arr)\n",
    "    return arr_ordenado\n",
    "    \n",
    "def quicksort(arr: list):\n",
    "    \"\"\"Algoritmo de ordenamiento QuickSort (recursivo).\n",
    "    Retorna una lista ordenada con los elementos de arr.\\n\n",
    "    Best Time Complexity: O(n log n)\\n\n",
    "    Average Time Complexity: O(n log n)\\n\n",
    "    Worst Time Complexity: O(n^2) [ya esta ordenado]\n",
    "    \"\"\"\n",
    "    if len(arr) <= 1:\n",
    "        return arr\n",
    "    else: \n",
    "        pivot = arr[0]\n",
    "        left = [x for x in arr[1:] if x < pivot]\n",
    "        right = [x for x in arr[1:] if x >= pivot]\n",
    "        return quicksort(left) + [pivot] + quicksort(right)"
   ]
  },
  {
   "cell_type": "code",
   "execution_count": 19,
   "metadata": {},
   "outputs": [],
   "source": [
    "\n",
    "def timsort(arr: list):\n",
    "    \"\"\"Algoritmo de ordenamiento TimSort (default de sorted/sort).\n",
    "    Retorna una lista ordenada con los elementos de arr.\n",
    "    Best Time Complexity: O(n)\\n\n",
    "    Average Time Complexity: O(n log n)\\n\n",
    "    Worst Time Complexity: O(n log n)\n",
    "    \"\"\"\n",
    "    arr_ordenado = sorted(arr)\n",
    "    return arr_ordenado"
   ]
  },
  {
   "cell_type": "code",
   "execution_count": 20,
   "metadata": {},
   "outputs": [],
   "source": [
    "if __name__ == \"__main__\":\n",
    "    ordenado_ts = timsort(datos)\n",
    "    ordenado_qs = quick_sort(datos)"
   ]
  }
 ],
 "metadata": {
  "kernelspec": {
   "display_name": "Python 3",
   "language": "python",
   "name": "python3"
  },
  "language_info": {
   "codemirror_mode": {
    "name": "ipython",
    "version": 3
   },
   "file_extension": ".py",
   "mimetype": "text/x-python",
   "name": "python",
   "nbconvert_exporter": "python",
   "pygments_lexer": "ipython3",
   "version": "3.11.2"
  }
 },
 "nbformat": 4,
 "nbformat_minor": 2
}
