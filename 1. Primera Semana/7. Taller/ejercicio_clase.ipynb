{
 "cells": [
  {
   "cell_type": "markdown",
   "metadata": {},
   "source": [
    "Actividad de Clase: Análisis y Clasificación de Datos con Python\n",
    "\n",
    "Objetivo: Utilizarán Python para analizar un conjunto de datos. Trabajaremos con el conjunto de datos de las flores Iris (https://scikit-learn.org/stable/auto_examples/datasets/plot_iris_dataset.html), un clásico en el mundo de la inteligencia artificial y el aprendizaje automático. El dataset consiste de 3 diferentes tipos de plantas iris: (setosa, versicolor y virginica). Cada fila representa una muestra y las carácteristicas en las columnas (Sepal Length, Sepal Width, Petal Length and Petal Width).\n",
    "\n",
    "Tareas a Realizar:\n",
    "\n",
    "1. Empezar por:\n",
    "* Instalar scikit-learn: *pip install scikit-learn*\n",
    "* Importar el conjunto de datos de Iris usando scikit-learn.\n",
    "* Almacenar los datos en variables y estructuras adecuadas para poder instanciar un objeto de la clase *Planta_Iris* por cada especie de Iris (setosa, versicolor, virginica)\n",
    "* La estructura sugerida es: \n",
    "dataset = dict(especie: dict(caracteristica: [medidas]))\n",
    "Así por cada especie, podemos enviar el diccionario de datos al objeto apropiado.\n",
    "\n",
    "2. Diseñar Clase *Planta_Iris*:\n",
    "* Definir una clase *Planta_Iris*. Esta clase debe incluir atributos para almacenar  el nombre de la especie, el diccionario de datos y diccionario de estadísticas. En el constructor, el atributo estadísticas debe usar el método calcularEstadisticas(self.datos) para obtener valor mínimo, máximo y promedio para cada una de las carácteristicas de la planta: (Sepal Length, Sepal Width, Petal Length and Petal Width).\n",
    "* calcularEstadisticas(self.datos) devuelve un diccionario con los valores minimos, maximo y promedio para cada una de las características.\n",
    "\n",
    "3. Implementación de un Clasificador Simple:\n",
    "* Dada una lista de diccionarios de caracteristicas, verificar si los valores están dentro de los rangos minimo y máximo de las muestras para cada una de las plantas. Indicar, a que especie de planta puede pertenecer este valor.\n",
    "\n",
    "4. Discusión y Conclusión:\n",
    "* Analizar las estructuras de datos utilizadas en el ejercicio.\n",
    "* Comentar cual fue la parte más dificil de resolver este ejercicio.\n",
    "* Comentar sobre los resultados obtenidos con el clasificador y si tiene sentido clasificar datos desconocidos segun los rangos conocidos de su especie."
   ]
  },
  {
   "cell_type": "code",
   "execution_count": 28,
   "metadata": {},
   "outputs": [
    {
     "name": "stdout",
     "output_type": "stream",
     "text": [
      "versicolor\n"
     ]
    }
   ],
   "source": [
    "from sklearn.datasets import load_iris\n",
    "\n",
    "iris = load_iris() # cargar el dataset\n",
    "\n",
    "# informacion del dataset\n",
    "# target_names = ['setosa' 'versicolor' 'virginica']\n",
    "target_names = iris['target_names'] \n",
    "#print(f\"Target names: {target_names}\")\n",
    "print(target_names[1])\n",
    "\n",
    "# feature_names = ['sepal length (cm)', 'sepal width (cm)', 'petal length (cm)', 'petal width (cm)']\n",
    "feature_names = iris['feature_names'] \n",
    "#print(f\"Features names: {feature_names}\")\n",
    "\n",
    "# data = [150x[4]], 150 muestras, 4 caracteristicas por muestra\n",
    "data = iris['data']\n",
    "#print(f\"Datos: {data}\")\n",
    "\n",
    "# target = [150], valores de [0-2] que corresponden a target_names\n",
    "target = iris['target']\n",
    "#print(f\"Target: {target}\")\n",
    "\n",
    "dataset = {}\n",
    "# TODO: dar un formato apropiado a la data obtenida de sklearn\n",
    "# siempre antes de un for\n"
   ]
  },
  {
   "cell_type": "code",
   "execution_count": 33,
   "metadata": {},
   "outputs": [
    {
     "name": "stdout",
     "output_type": "stream",
     "text": [
      "[0 0 0 0 0 0 0 0 0 0 0 0 0 0 0 0 0 0 0 0 0 0 0 0 0 0 0 0 0 0 0 0 0 0 0 0 0\n",
      " 0 0 0 0 0 0 0 0 0 0 0 0 0 1 1 1 1 1 1 1 1 1 1 1 1 1 1 1 1 1 1 1 1 1 1 1 1\n",
      " 1 1 1 1 1 1 1 1 1 1 1 1 1 1 1 1 1 1 1 1 1 1 1 1 1 1 2 2 2 2 2 2 2 2 2 2 2\n",
      " 2 2 2 2 2 2 2 2 2 2 2 2 2 2 2 2 2 2 2 2 2 2 2 2 2 2 2 2 2 2 2 2 2 2 2 2 2\n",
      " 2 2]\n",
      "0 [5.1 3.5 1.4 0.2]\n"
     ]
    },
    {
     "data": {
      "text/plain": [
       "array([5.1, 3.5, 1.4, 0.2])"
      ]
     },
     "execution_count": 33,
     "metadata": {},
     "output_type": "execute_result"
    }
   ],
   "source": [
    "#Impresión de listas\n",
    "print(target)\n",
    "print(target[0], data[0])\n",
    "\n",
    "data[0]"
   ]
  },
  {
   "cell_type": "code",
   "execution_count": 29,
   "metadata": {},
   "outputs": [
    {
     "name": "stdout",
     "output_type": "stream",
     "text": [
      "{'setosa': {'sepal length (cm)': [], 'sepal width (cm)': [], 'petal length (cm)': [], 'petal width (cm)': []}, 'versicolor': {'sepal length (cm)': [], 'sepal width (cm)': [], 'petal length (cm)': [], 'petal width (cm)': []}, 'virginica': {'sepal length (cm)': [], 'sepal width (cm)': [], 'petal length (cm)': [], 'petal width (cm)': []}}\n"
     ]
    }
   ],
   "source": [
    "#Crear estructura de diccionario.\n",
    "\n",
    "for especie in target_names:\n",
    "    dataset[especie]= {}\n",
    "    for caracterisca in feature_names:\n",
    "        dataset[especie][caracterisca] = []\n",
    "\n",
    "print(dataset)"
   ]
  },
  {
   "cell_type": "code",
   "execution_count": 35,
   "metadata": {},
   "outputs": [
    {
     "name": "stdout",
     "output_type": "stream",
     "text": [
      "{'setosa': {'sepal length (cm)': [5.1, 3.5, 1.4, 0.2, 5.1, 3.5, 1.4, 0.2, 5.1, 3.5, 1.4, 0.2, 5.1, 4.9, 4.7, 4.6, 5.0, 5.4, 4.6, 5.0, 4.4, 4.9, 5.4, 4.8, 4.8, 4.3, 5.8, 5.7, 5.4, 5.1, 5.7, 5.1, 5.4, 5.1, 4.6, 5.1, 4.8, 5.0, 5.0, 5.2, 5.2, 4.7, 4.8, 5.4, 5.2, 5.5, 4.9, 5.0, 5.5, 4.9, 4.4, 5.1, 5.0, 4.5, 4.4, 5.0, 5.1, 4.8, 5.1, 4.6, 5.3, 5.0], 'sepal width (cm)': [4.9, 3.0, 1.4, 0.2, 4.9, 3.0, 1.4, 0.2, 4.9, 3.0, 1.4, 0.2, 3.5, 3.0, 3.2, 3.1, 3.6, 3.9, 3.4, 3.4, 2.9, 3.1, 3.7, 3.4, 3.0, 3.0, 4.0, 4.4, 3.9, 3.5, 3.8, 3.8, 3.4, 3.7, 3.6, 3.3, 3.4, 3.0, 3.4, 3.5, 3.4, 3.2, 3.1, 3.4, 4.1, 4.2, 3.1, 3.2, 3.5, 3.6, 3.0, 3.4, 3.5, 2.3, 3.2, 3.5, 3.8, 3.0, 3.8, 3.2, 3.7, 3.3], 'petal length (cm)': [4.7, 3.2, 1.3, 0.2, 4.7, 3.2, 1.3, 0.2, 4.7, 3.2, 1.3, 0.2, 1.4, 1.4, 1.3, 1.5, 1.4, 1.7, 1.4, 1.5, 1.4, 1.5, 1.5, 1.6, 1.4, 1.1, 1.2, 1.5, 1.3, 1.4, 1.7, 1.5, 1.7, 1.5, 1.0, 1.7, 1.9, 1.6, 1.6, 1.5, 1.4, 1.6, 1.6, 1.5, 1.5, 1.4, 1.5, 1.2, 1.3, 1.4, 1.3, 1.5, 1.3, 1.3, 1.3, 1.6, 1.9, 1.4, 1.6, 1.4, 1.5, 1.4], 'petal width (cm)': [4.6, 3.1, 1.5, 0.2, 4.6, 3.1, 1.5, 0.2, 4.6, 3.1, 1.5, 0.2, 0.2, 0.2, 0.2, 0.2, 0.2, 0.4, 0.3, 0.2, 0.2, 0.1, 0.2, 0.2, 0.1, 0.1, 0.2, 0.4, 0.4, 0.3, 0.3, 0.3, 0.2, 0.4, 0.2, 0.5, 0.2, 0.2, 0.4, 0.2, 0.2, 0.2, 0.2, 0.4, 0.1, 0.2, 0.2, 0.2, 0.2, 0.1, 0.2, 0.2, 0.3, 0.3, 0.2, 0.6, 0.4, 0.3, 0.2, 0.2, 0.2, 0.2]}, 'versicolor': {'sepal length (cm)': [7.0, 6.4, 6.9, 5.5, 6.5, 5.7, 6.3, 4.9, 6.6, 5.2, 5.0, 5.9, 6.0, 6.1, 5.6, 6.7, 5.6, 5.8, 6.2, 5.6, 5.9, 6.1, 6.3, 6.1, 6.4, 6.6, 6.8, 6.7, 6.0, 5.7, 5.5, 5.5, 5.8, 6.0, 5.4, 6.0, 6.7, 6.3, 5.6, 5.5, 5.5, 6.1, 5.8, 5.0, 5.6, 5.7, 5.7, 6.2, 5.1, 5.7], 'sepal width (cm)': [3.2, 3.2, 3.1, 2.3, 2.8, 2.8, 3.3, 2.4, 2.9, 2.7, 2.0, 3.0, 2.2, 2.9, 2.9, 3.1, 3.0, 2.7, 2.2, 2.5, 3.2, 2.8, 2.5, 2.8, 2.9, 3.0, 2.8, 3.0, 2.9, 2.6, 2.4, 2.4, 2.7, 2.7, 3.0, 3.4, 3.1, 2.3, 3.0, 2.5, 2.6, 3.0, 2.6, 2.3, 2.7, 3.0, 2.9, 2.9, 2.5, 2.8], 'petal length (cm)': [4.7, 4.5, 4.9, 4.0, 4.6, 4.5, 4.7, 3.3, 4.6, 3.9, 3.5, 4.2, 4.0, 4.7, 3.6, 4.4, 4.5, 4.1, 4.5, 3.9, 4.8, 4.0, 4.9, 4.7, 4.3, 4.4, 4.8, 5.0, 4.5, 3.5, 3.8, 3.7, 3.9, 5.1, 4.5, 4.5, 4.7, 4.4, 4.1, 4.0, 4.4, 4.6, 4.0, 3.3, 4.2, 4.2, 4.2, 4.3, 3.0, 4.1], 'petal width (cm)': [1.4, 1.5, 1.5, 1.3, 1.5, 1.3, 1.6, 1.0, 1.3, 1.4, 1.0, 1.5, 1.0, 1.4, 1.3, 1.4, 1.5, 1.0, 1.5, 1.1, 1.8, 1.3, 1.5, 1.2, 1.3, 1.4, 1.4, 1.7, 1.5, 1.0, 1.1, 1.0, 1.2, 1.6, 1.5, 1.6, 1.5, 1.3, 1.3, 1.3, 1.2, 1.4, 1.2, 1.0, 1.3, 1.2, 1.3, 1.3, 1.1, 1.3]}, 'virginica': {'sepal length (cm)': [6.3, 5.8, 7.1, 6.3, 6.5, 7.6, 4.9, 7.3, 6.7, 7.2, 6.5, 6.4, 6.8, 5.7, 5.8, 6.4, 6.5, 7.7, 7.7, 6.0, 6.9, 5.6, 7.7, 6.3, 6.7, 7.2, 6.2, 6.1, 6.4, 7.2, 7.4, 7.9, 6.4, 6.3, 6.1, 7.7, 6.3, 6.4, 6.0, 6.9, 6.7, 6.9, 5.8, 6.8, 6.7, 6.7, 6.3, 6.5, 6.2, 5.9], 'sepal width (cm)': [3.3, 2.7, 3.0, 2.9, 3.0, 3.0, 2.5, 2.9, 2.5, 3.6, 3.2, 2.7, 3.0, 2.5, 2.8, 3.2, 3.0, 3.8, 2.6, 2.2, 3.2, 2.8, 2.8, 2.7, 3.3, 3.2, 2.8, 3.0, 2.8, 3.0, 2.8, 3.8, 2.8, 2.8, 2.6, 3.0, 3.4, 3.1, 3.0, 3.1, 3.1, 3.1, 2.7, 3.2, 3.3, 3.0, 2.5, 3.0, 3.4, 3.0], 'petal length (cm)': [6.0, 5.1, 5.9, 5.6, 5.8, 6.6, 4.5, 6.3, 5.8, 6.1, 5.1, 5.3, 5.5, 5.0, 5.1, 5.3, 5.5, 6.7, 6.9, 5.0, 5.7, 4.9, 6.7, 4.9, 5.7, 6.0, 4.8, 4.9, 5.6, 5.8, 6.1, 6.4, 5.6, 5.1, 5.6, 6.1, 5.6, 5.5, 4.8, 5.4, 5.6, 5.1, 5.1, 5.9, 5.7, 5.2, 5.0, 5.2, 5.4, 5.1], 'petal width (cm)': [2.5, 1.9, 2.1, 1.8, 2.2, 2.1, 1.7, 1.8, 1.8, 2.5, 2.0, 1.9, 2.1, 2.0, 2.4, 2.3, 1.8, 2.2, 2.3, 1.5, 2.3, 2.0, 2.0, 1.8, 2.1, 1.8, 1.8, 1.8, 2.1, 1.6, 1.9, 2.0, 2.2, 1.5, 1.4, 2.3, 2.4, 1.8, 1.8, 2.1, 2.4, 2.3, 1.9, 2.3, 2.5, 2.3, 1.9, 2.0, 2.3, 1.8]}}\n"
     ]
    }
   ],
   "source": [
    "#Llenar el diccionario\n",
    "for i in range(len(target)):\n",
    "    target_value = target[i]\n",
    "    especie_name = target_names[target_value] \n",
    "    \n",
    "    data_row = data[i]\n",
    "\n",
    "    for j in range(len(data_row)):\n",
    "        feature_name = feature_names[j]\n",
    "        dataset[especie_name][feature_name].append(data_row[j])\n",
    "\n",
    "print(dataset)\n"
   ]
  },
  {
   "cell_type": "code",
   "execution_count": 22,
   "metadata": {},
   "outputs": [
    {
     "name": "stdout",
     "output_type": "stream",
     "text": [
      "{'setosa': {}, 'versicolor': {}, 'virginica': {}}\n",
      "{'a': 3}\n",
      "2\n"
     ]
    }
   ],
   "source": [
    "# Esto es un diccionario:\n",
    "\n",
    "print(dataset)\n",
    "\n",
    "a = {\"a\":3}\n",
    "print(a)\n",
    "\n",
    "a[\"b\"] = 2\n",
    "\n",
    "print(a[\"b\"])"
   ]
  },
  {
   "cell_type": "code",
   "execution_count": 46,
   "metadata": {},
   "outputs": [],
   "source": [
    "# Definicion de la clase Planta_Iris\n",
    "class Planta_Iris():\n",
    "    def __init__(self, nombre: str, datos: dict) -> None:\n",
    "        '''Inicializa los atributos del objeto y \n",
    "        llama a calcularEstadisticas()'''\n",
    "        self.nombre = nombre\n",
    "        self.datos = datos\n",
    "        self.estadisticas = self.calcularEstadisticas()\n",
    "\n",
    "    def calcularEstadisticas(self) -> dict:\n",
    "        '''Devuelve un diccionario de {caracteristicas: {estadisticas}}\n",
    "        Las estadisticas incluyen valores minimos, maximos y promedio.'''\n",
    "        # Sacar el valor mínimo\n",
    "        \n",
    "        estadistica = {}\n",
    "\n",
    "        for caracterisca, data in self.datos.items():\n",
    "            estadistica[caracterisca] = {\n",
    "                \"min\": min(data),\n",
    "                \"max\": max(data),\n",
    "                \"prom\": sum(data)/len(data)\n",
    "            }\n",
    "        \n",
    "        return estadistica\n",
    "\n",
    "    \n",
    "\n",
    "\n",
    "    def imprimirEstadisticas(self) -> None:\n",
    "        '''Facilitar y estilizar la impresion de las estadisticas\n",
    "        calculadas.'''\n",
    "\n",
    "        print(self.estadisticas)\n",
    "\n",
    "    def probarPertenencia(self, caracteristicas: dict) -> bool:\n",
    "        '''Dado un diccionario de caracteristicas, responde True/False\n",
    "        si hay la posibilidad de que sean de esta especie de Iris\\n\n",
    "        Criterio básico: \\n\n",
    "        Cada caracteristica verifica minimo < valor < maximo\n",
    "        '''\n",
    "        valores = []\n",
    "\n",
    "        for caracterisca, valor in caracteristicas.items():\n",
    "            valores.append(self.estadisticas[caracterisca][\"min\"] <= valor <= self.estadisticas[caracterisca][\"max\"])\n",
    "\n",
    "        return all(valores)"
   ]
  },
  {
   "cell_type": "code",
   "execution_count": 48,
   "metadata": {},
   "outputs": [
    {
     "name": "stdout",
     "output_type": "stream",
     "text": [
      "{'sepal length (cm)': {'min': 0.2, 'max': 5.8, 'prom': 4.530645161290324}, 'sepal width (cm)': {'min': 0.2, 'max': 4.9, 'prom': 3.2241935483870963}, 'petal length (cm)': {'min': 0.2, 'max': 4.7, 'prom': 1.6338709677419354}, 'petal width (cm)': {'min': 0.1, 'max': 4.6, 'prom': 0.6532258064516133}}\n",
      "{'sepal length (cm)': {'min': 4.9, 'max': 7.0, 'prom': 5.936}, 'sepal width (cm)': {'min': 2.0, 'max': 3.4, 'prom': 2.7700000000000005}, 'petal length (cm)': {'min': 3.0, 'max': 5.1, 'prom': 4.26}, 'petal width (cm)': {'min': 1.0, 'max': 1.8, 'prom': 1.3259999999999998}}\n",
      "{'sepal length (cm)': {'min': 4.9, 'max': 7.9, 'prom': 6.587999999999998}, 'sepal width (cm)': {'min': 2.2, 'max': 3.8, 'prom': 2.9739999999999998}, 'petal length (cm)': {'min': 4.5, 'max': 6.9, 'prom': 5.552}, 'petal width (cm)': {'min': 1.4, 'max': 2.5, 'prom': 2.026}}\n",
      "Estos datos pueden corresponder a una: setosa\n",
      "Estos datos pueden corresponder a una: setosa\n",
      "Estos datos pueden corresponder a una: versicolor\n",
      "Estos datos pueden corresponder a una: virginica\n"
     ]
    }
   ],
   "source": [
    "# Bloque de pruebas para verificar si el código está correcto\n",
    "plantas = []\n",
    "for planta in dataset:\n",
    "    plantas.append(Planta_Iris(planta, dataset[planta]))\n",
    "    #print(dataset[planta])\n",
    "    #break\n",
    "\n",
    "for planta in plantas:\n",
    "    planta.imprimirEstadisticas()\n",
    "\n",
    "datosParaClasificacion = [{\n",
    "    'sepal length (cm)': 5.01,\n",
    "    'sepal width (cm)': 2.32,\n",
    "    'petal length (cm)': 1.7,\n",
    "    'petal width (cm)': 0.55,\n",
    "}, {\n",
    "    'sepal length (cm)': 5.70,\n",
    "    'sepal width (cm)': 2.32,\n",
    "    'petal length (cm)': 4.5,\n",
    "    'petal width (cm)': 1.55,\n",
    "}]\n",
    "\n",
    "for datos_clas in datosParaClasificacion:\n",
    "    #print(datos_clas)\n",
    "    for planta in plantas:\n",
    "        res = planta.probarPertenencia(datos_clas)\n",
    "        if res:\n",
    "            print(f\"Estos datos pueden corresponder a una: {planta.nombre}\")"
   ]
  }
 ],
 "metadata": {
  "kernelspec": {
   "display_name": "Python 3",
   "language": "python",
   "name": "python3"
  },
  "language_info": {
   "codemirror_mode": {
    "name": "ipython",
    "version": 3
   },
   "file_extension": ".py",
   "mimetype": "text/x-python",
   "name": "python",
   "nbconvert_exporter": "python",
   "pygments_lexer": "ipython3",
   "version": "3.12.1"
  }
 },
 "nbformat": 4,
 "nbformat_minor": 2
}
