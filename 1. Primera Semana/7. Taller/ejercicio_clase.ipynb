{
 "cells": [
  {
   "cell_type": "markdown",
   "metadata": {},
   "source": [
    "Actividad de Clase: Análisis y Clasificación de Datos con Python\n",
    "\n",
    "Objetivo: Utilizarán Python para analizar un conjunto de datos. Trabajaremos con el conjunto de datos de las flores Iris (https://scikit-learn.org/stable/auto_examples/datasets/plot_iris_dataset.html), un clásico en el mundo de la inteligencia artificial y el aprendizaje automático. El dataset consiste de 3 diferentes tipos de plantas iris: (setosa, versicolor y virginica). Cada fila representa una muestra y las carácteristicas en las columnas (Sepal Length, Sepal Width, Petal Length and Petal Width).\n",
    "\n",
    "Tareas a Realizar:\n",
    "\n",
    "1. Empezar por:\n",
    "* Instalar scikit-learn: *pip install scikit-learn*\n",
    "* Importar el conjunto de datos de Iris usando scikit-learn.\n",
    "* Almacenar los datos en variables y estructuras adecuadas para poder instanciar un objeto de la clase *Planta_Iris* por cada especie de Iris (setosa, versicolor, virginica)\n",
    "* La estructura sugerida es: \n",
    "dataset = dict(especie: dict(caracteristica: [medidas]))\n",
    "Así por cada especie, podemos enviar el diccionario de datos al objeto apropiado.\n",
    "\n",
    "2. Diseñar Clase *Planta_Iris*:\n",
    "* Definir una clase *Planta_Iris*. Esta clase debe incluir atributos para almacenar  el nombre de la especie, el diccionario de datos y diccionario de estadísticas. En el constructor, el atributo estadísticas debe usar el método calcularEstadisticas(self.datos) para obtener valor mínimo, máximo y promedio para cada una de las carácteristicas de la planta: (Sepal Length, Sepal Width, Petal Length and Petal Width).\n",
    "* calcularEstadisticas(self.datos) devuelve un diccionario con los valores minimos, maximo y promedio para cada una de las características.\n",
    "\n",
    "3. Implementación de un Clasificador Simple:\n",
    "* Dada una lista de diccionarios de caracteristicas, verificar si los valores están dentro de los rangos minimo y máximo de las muestras para cada una de las plantas. Indicar, a que especie de planta puede pertenecer este valor.\n",
    "\n",
    "4. Discusión y Conclusión:\n",
    "* Analizar las estructuras de datos utilizadas en el ejercicio.\n",
    "* Comentar cual fue la parte más dificil de resolver este ejercicio.\n",
    "* Comentar sobre los resultados obtenidos con el clasificador y si tiene sentido clasificar datos desconocidos segun los rangos conocidos de su especie."
   ]
  },
  {
   "cell_type": "code",
   "execution_count": 1,
   "metadata": {},
   "outputs": [],
   "source": [
    "from sklearn.datasets import load_iris\n",
    "\n",
    "iris = load_iris() # cargar el dataset\n",
    "\n",
    "# informacion del dataset\n",
    "# target_names = ['setosa' 'versicolor' 'virginica']\n",
    "target_names = iris['target_names'] \n",
    "\n",
    "# feature_names = ['sepal length (cm)', 'sepal width (cm)', 'petal length (cm)', 'petal width (cm)']\n",
    "feature_names = iris['feature_names'] \n",
    "\n",
    "# data = [150x[4]], 150 muestras, 4 caracteristicas por muestra\n",
    "data = iris['data']\n",
    "\n",
    "# target = [150], valores de [0-2] que corresponden a target_names\n",
    "target = iris['target']\n",
    "\n",
    "dataset = {}\n",
    "# TODO: dar un formato apropiado a la data obtenida de sklearn"
   ]
  },
  {
   "cell_type": "code",
   "execution_count": 2,
   "metadata": {},
   "outputs": [],
   "source": [
    "# Definicion de la clase Planta_Iris\n",
    "class Planta_Iris():\n",
    "    def __init__(self, nombre: str, datos: dict) -> None:\n",
    "        '''Inicializa los atributos del objeto y \n",
    "        llama a calcularEstadisticas()'''\n",
    "        # TODO: aqui su codigo\n",
    "        pass\n",
    "\n",
    "    def calcularEstadisticas(self) -> dict:\n",
    "        '''Devuelve un diccionario de {caracteristicas: {estadisticas}}\n",
    "        Las estadisticas incluyen valores minimos, maximos y promedio.'''\n",
    "        #TODO: aqui su codigo\n",
    "        pass\n",
    "\n",
    "    def imprimirEstadisticas(self) -> None:\n",
    "        '''Facilitar y estilizar la impresion de las estadisticas\n",
    "        calculadas.'''\n",
    "        # TODO: aqui su codigo\n",
    "        pass\n",
    "\n",
    "    def probarPertenencia(self, caracteristicas: dict) -> bool:\n",
    "        '''Dado un diccionario de caracteristicas, responde True/False\n",
    "        si hay la posibilidad de que sean de esta especie de Iris\\n\n",
    "        Criterio básico: \\n\n",
    "        Cada caracteristica verifica minimo < valor < maximo\n",
    "        '''\n",
    "        # TODO: aqui su codigo\n",
    "        pass"
   ]
  },
  {
   "cell_type": "code",
   "execution_count": 3,
   "metadata": {},
   "outputs": [
    {
     "name": "stdout",
     "output_type": "stream",
     "text": [
      "{'sepal length (cm)': 5.01, 'sepal width (cm)': 2.32, 'petal length (cm)': 1.7, 'petal width (cm)': 0.55}\n",
      "{'sepal length (cm)': 5.7, 'sepal width (cm)': 2.32, 'petal length (cm)': 4.5, 'petal width (cm)': 1.55}\n"
     ]
    }
   ],
   "source": [
    "# Bloque de pruebas para verificar si el código está correcto\n",
    "plantas = []\n",
    "for planta in dataset:\n",
    "    plantas.append(Planta_Iris(planta, dataset[planta]))\n",
    "\n",
    "for planta in plantas:\n",
    "    planta.imprimirEstadisticas()\n",
    "\n",
    "datosParaClasificacion = [{\n",
    "    'sepal length (cm)': 5.01,\n",
    "    'sepal width (cm)': 2.32,\n",
    "    'petal length (cm)': 1.7,\n",
    "    'petal width (cm)': 0.55,\n",
    "}, {\n",
    "    'sepal length (cm)': 5.70,\n",
    "    'sepal width (cm)': 2.32,\n",
    "    'petal length (cm)': 4.5,\n",
    "    'petal width (cm)': 1.55,\n",
    "}]\n",
    "\n",
    "for datos_clas in datosParaClasificacion:\n",
    "    print(datos_clas)\n",
    "    for planta in plantas:\n",
    "        res = planta.probarPertenencia(datos_clas)\n",
    "        if res:\n",
    "            print(f\"Estos datos pueden corresponder a una: {planta.nombre}\")"
   ]
  }
 ],
 "metadata": {
  "kernelspec": {
   "display_name": "Python 3",
   "language": "python",
   "name": "python3"
  },
  "language_info": {
   "codemirror_mode": {
    "name": "ipython",
    "version": 3
   },
   "file_extension": ".py",
   "mimetype": "text/x-python",
   "name": "python",
   "nbconvert_exporter": "python",
   "pygments_lexer": "ipython3",
   "version": "3.11.2"
  }
 },
 "nbformat": 4,
 "nbformat_minor": 2
}
