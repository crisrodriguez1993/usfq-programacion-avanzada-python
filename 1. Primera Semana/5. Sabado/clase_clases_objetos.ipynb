{
 "cells": [
  {
   "cell_type": "code",
   "execution_count": 69,
   "metadata": {},
   "outputs": [
    {
     "name": "stdout",
     "output_type": "stream",
     "text": [
      "Ramiro Sandoval 1718299999, 24/7/94\n",
      "Alex Bravo 1792992221, 25/9/85\n"
     ]
    }
   ],
   "source": [
    "'''\n",
    "Clases y Objetos:\n",
    "Clase es una estructura de datos que permite agrupar datos \n",
    "(encapsular datos)\n",
    "Funciona como una plantilla\n",
    "'''\n",
    "\n",
    "nombres = [\"Ramiro Sandoval\", \"Alex Bravo\"]\n",
    "cedulas = [1718299999, 1792992221]\n",
    "fechas_nac = [\"24/7/94\", \"25/9/85\"]\n",
    "\n",
    "cedulas.sort()\n",
    "for i in range(len(nombres)):\n",
    "    print(f\"{nombres[i]} {cedulas[i]}, {fechas_nac[i]}\")"
   ]
  },
  {
   "cell_type": "code",
   "execution_count": 70,
   "metadata": {},
   "outputs": [
    {
     "name": "stdout",
     "output_type": "stream",
     "text": [
      "Ramiro Sandoval 1718299999 24/7/94\n",
      "Alex Bravo 1792992221 25/9/85\n"
     ]
    }
   ],
   "source": [
    "class Persona:\n",
    "    def __init__(self, nombre: str, cedula: str, fecha_nac: str):\n",
    "        '''Constructor de la clase'''\n",
    "        self.nombre = nombre\n",
    "        self.cedula = cedula\n",
    "        self.fecha_nac = fecha_nac\n",
    "        '''\n",
    "        Declarar el atributo con un guion bajo al frente: privado\n",
    "        self._salario \n",
    "        Declarar el atributo con doble guion bajo al frente: protected\n",
    "        self.__dinero\n",
    "        '''\n",
    "    \n",
    "    def imprimirInformacion(self):\n",
    "        print(f\"{self.nombre} {self.cedula} {self.fecha_nac}\")\n",
    "\n",
    "'''\n",
    "Objeto:\n",
    "Una instancia de una clase\n",
    "\"Hacer que la plantilla cobre vida\" -> Dandole valores\n",
    "'''\n",
    "\n",
    "persona1 = Persona(\"Ramiro Sandoval\", \"1718299999\", \"24/7/94\")\n",
    "persona2 = Persona(\"Alex Bravo\", \"1792992221\", \"25/9/85\")\n",
    "\n",
    "persona1.imprimirInformacion()\n",
    "persona2.imprimirInformacion()"
   ]
  },
  {
   "cell_type": "code",
   "execution_count": 71,
   "metadata": {},
   "outputs": [
    {
     "name": "stdout",
     "output_type": "stream",
     "text": [
      "Juan Perez 1718299999 24/7/94\n"
     ]
    }
   ],
   "source": [
    "persona1.nombre = \"Juan Perez\"\n",
    "persona1.imprimirInformacion()"
   ]
  },
  {
   "cell_type": "code",
   "execution_count": 72,
   "metadata": {},
   "outputs": [],
   "source": [
    "import random\n",
    "class Item:\n",
    "    def __init__(self, codigo: str, nombre: str, ventas: list=None) -> None:\n",
    "        self.codigo = codigo\n",
    "        self.nombre = nombre\n",
    "        if ventas is not None:\n",
    "            self._ventas = ventas\n",
    "        else:\n",
    "            self._ventas = []\n",
    "    \n",
    "    '''Cambia el comportamiento de print(objeto)'''\n",
    "    def __str__(self) -> str:\n",
    "        return f\"\"\"\n",
    "Codigo: {self.codigo}\n",
    "Nombre: {self.nombre}\n",
    "Ventas: {self._ventas}\n",
    "Promedio Ventas: {self.promedio()}\"\"\"\n",
    "\n",
    "    def promedio(self) -> float:\n",
    "        return sum(self._ventas)/len(self._ventas)\n",
    "\n",
    "    '''Setter: metodo que configura el valor de un atributo'''\n",
    "    def setVentas(self, ventas: list) -> None:\n",
    "        self._ventas = ventas\n",
    "    \n",
    "    '''Getter: metodo que extrae el valor de un atributo'''\n",
    "    def getVentas(self) -> list:\n",
    "        return self._ventas"
   ]
  },
  {
   "cell_type": "code",
   "execution_count": 73,
   "metadata": {},
   "outputs": [
    {
     "name": "stdout",
     "output_type": "stream",
     "text": [
      "Promedio: 47.708333333333336\n"
     ]
    }
   ],
   "source": [
    "ventas_mensuales1 = [int(100*random.random()) for _ in range(24)]\n",
    "\n",
    "item1 = Item(\"0101\", \"PASTA DE DIENTES\", ventas_mensuales1)\n",
    "print(f\"Promedio: {item1.promedio()}\")"
   ]
  },
  {
   "cell_type": "code",
   "execution_count": 74,
   "metadata": {},
   "outputs": [
    {
     "name": "stdout",
     "output_type": "stream",
     "text": [
      "\n",
      "Codigo: 0102\n",
      "Nombre: PASTA DE TOMATE 200gr\n",
      "Ventas: [88, 245, 243, 225, 17, 224, 240, 96, 188, 192, 117, 184, 173, 184, 182, 9, 176, 104, 74, 132, 127, 154, 149, 47]\n",
      "Promedio Ventas: 148.75\n",
      "Promedio: 148.75\n",
      "\n",
      "Codigo: 0103\n",
      "Nombre: SPAGHETTI 300gr\n",
      "Ventas: [137, 28, 26, 29, 455, 393, 212, 50, 255, 150, 411, 495, 96, 439, 183, 123, 327, 405, 142, 4, 135, 470, 163, 30]\n",
      "Promedio Ventas: 214.91666666666666\n",
      "Promedio: 214.92\n",
      "\n",
      "Codigo: 0104\n",
      "Nombre: ATUN 500gr\n",
      "Ventas: [147, 253, 115, 271, 217, 214, 85, 191, 94, 205, 173, 267, 253, 251, 285, 208, 243, 170, 45, 198, 289, 242, 230, 138]\n",
      "Promedio Ventas: 199.33333333333334\n",
      "Promedio: 199.33\n"
     ]
    }
   ],
   "source": [
    "items_dict = {\n",
    "    '0102': 'PASTA DE TOMATE 200gr',\n",
    "    '0103': 'SPAGHETTI 300gr',\n",
    "    '0104': 'ATUN 500gr'\n",
    "}\n",
    "\n",
    "ventas_dict = {\n",
    "    '0102': [int(250*random.random()) for _ in range(24)], \n",
    "    '0103': [int(500*random.random()) for _ in range(24)],\n",
    "    '0104': [int(300*random.random()) for _ in range(24)]\n",
    "}\n",
    "\n",
    "items = []\n",
    "for codigo in items_dict:\n",
    "    descripcion = items_dict[codigo]\n",
    "    list_venta = ventas_dict[codigo]\n",
    "    item = Item(codigo, descripcion)\n",
    "    item._ventas = (list_venta)\n",
    "    items.append(item)\n",
    "\n",
    "for item in items:\n",
    "    print(item)\n",
    "    print(f\"Promedio: {item.promedio():.2f}\")\n",
    "\n"
   ]
  }
 ],
 "metadata": {
  "kernelspec": {
   "display_name": "Python 3",
   "language": "python",
   "name": "python3"
  },
  "language_info": {
   "codemirror_mode": {
    "name": "ipython",
    "version": 3
   },
   "file_extension": ".py",
   "mimetype": "text/x-python",
   "name": "python",
   "nbconvert_exporter": "python",
   "pygments_lexer": "ipython3",
   "version": "3.9.1"
  }
 },
 "nbformat": 4,
 "nbformat_minor": 2
}
