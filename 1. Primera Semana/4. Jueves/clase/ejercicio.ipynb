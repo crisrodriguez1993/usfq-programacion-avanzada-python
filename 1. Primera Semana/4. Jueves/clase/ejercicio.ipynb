{
 "cells": [
  {
   "cell_type": "markdown",
   "metadata": {},
   "source": [
    "Analizar ventas de un item.\n",
    "1. Definir una funcion para calcular el promedio\n",
    "2. Definir una funcion para calcular la desviacion estandar\n",
    "3. Contar cuantas ventas estuvieron por encima de 2*desviacion estandar 95.4% confianza"
   ]
  },
  {
   "cell_type": "code",
   "execution_count": 1,
   "metadata": {},
   "outputs": [],
   "source": [
    "ventas = [250, 300, 700, 450, 240, 300, 890, 600]"
   ]
  },
  {
   "cell_type": "code",
   "execution_count": 2,
   "metadata": {},
   "outputs": [],
   "source": [
    "def promedio(datos: list) -> float:\n",
    "    '''Esta funcion suma los datos de la lista\n",
    "    y divide la suma para el numero de elementos\n",
    "    en la lista'''\n",
    "    pass"
   ]
  },
  {
   "cell_type": "markdown",
   "metadata": {},
   "source": [
    "desv_std = sqrt(sum((x-promedio)^2)/n)"
   ]
  },
  {
   "cell_type": "code",
   "execution_count": 3,
   "metadata": {},
   "outputs": [],
   "source": [
    "from math import sqrt\n",
    "\n",
    "def desv_std(datos: list) -> float:\n",
    "    '''Calcula la desviacion estandar'''\n",
    "    pass\n"
   ]
  },
  {
   "cell_type": "code",
   "execution_count": 4,
   "metadata": {},
   "outputs": [],
   "source": [
    "def analizar_datos(datos: list) -> dict:\n",
    "    '''Devuelve el promedio, desviacion estandar y # de datos\n",
    "    sobre el umbral 2*desv_std en un diccionario'''\n",
    "    pass"
   ]
  },
  {
   "cell_type": "code",
   "execution_count": 5,
   "metadata": {},
   "outputs": [],
   "source": [
    "ventas = [250, 300, 700, 450, 240, 300, 890, 600]\n",
    "analizar_datos(ventas)"
   ]
  },
  {
   "cell_type": "markdown",
   "metadata": {},
   "source": []
  }
 ],
 "metadata": {
  "kernelspec": {
   "display_name": "Python 3",
   "language": "python",
   "name": "python3"
  },
  "language_info": {
   "codemirror_mode": {
    "name": "ipython",
    "version": 3
   },
   "file_extension": ".py",
   "mimetype": "text/x-python",
   "name": "python",
   "nbconvert_exporter": "python",
   "pygments_lexer": "ipython3",
   "version": "3.11.2"
  }
 },
 "nbformat": 4,
 "nbformat_minor": 2
}
