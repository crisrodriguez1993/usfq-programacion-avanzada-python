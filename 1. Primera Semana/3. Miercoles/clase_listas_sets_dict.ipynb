{
 "cells": [
  {
   "cell_type": "code",
   "execution_count": 64,
   "metadata": {},
   "outputs": [
    {
     "name": "stdout",
     "output_type": "stream",
     "text": [
      "Minimo de calificaciones: 3.5\n",
      "Minimo de calificaciones: 10\n",
      "Minimo de calificaciones: 55.0\n"
     ]
    }
   ],
   "source": [
    "# Estadisticas simples\n",
    "calificaciones = [10, 5.6, 7.8, 9.5, 3.5, 9.9, 8.7]\n",
    "\n",
    "# Minimo utilizando la funcion min()\n",
    "print(f\"Minimo de calificaciones: {min(calificaciones)}\")\n",
    "\n",
    "# Maximo utilizando la funcion max()\n",
    "print(f\"Minimo de calificaciones: {max(calificaciones)}\")\n",
    "\n",
    "# Suma utilizando la funcion sum()\n",
    "print(f\"Minimo de calificaciones: {sum(calificaciones)}\")"
   ]
  },
  {
   "cell_type": "code",
   "execution_count": 65,
   "metadata": {},
   "outputs": [
    {
     "name": "stdout",
     "output_type": "stream",
     "text": [
      "Alumno 1: [10, 9, 8, 9, 10]\n",
      "Calificacion #1: 10\n",
      "Calificacion #2: 9\n",
      "Calificacion #3: 8\n",
      "Calificacion #4: 9\n",
      "Calificacion #5: 10\n",
      "Alumno 2: [9, 8, 10, 3, 10]\n",
      "Calificacion #1: 9\n",
      "Calificacion #2: 8\n",
      "Calificacion #3: 10\n",
      "Calificacion #4: 3\n",
      "Calificacion #5: 10\n",
      "Alumno 3: [10, 9, 8, 8.5, 7]\n",
      "Calificacion #1: 10\n",
      "Calificacion #2: 9\n",
      "Calificacion #3: 8\n",
      "Calificacion #4: 8.5\n",
      "Calificacion #5: 7\n"
     ]
    }
   ],
   "source": [
    "# Lista en 2D\n",
    "calificaciones = [[10, 9, 8, 9, 10],\n",
    "                  [9, 8, 10, 3, 10],\n",
    "                  [10, 9, 8, 8.5, 7]]\n",
    "\n",
    "# El acceso a los elementos se hace con los indices [][]\n",
    "# enumerate(iterable) -> indice, elemento\n",
    "\n",
    "for i, alumno in enumerate(calificaciones):\n",
    "    print(f\"Alumno {i+1}: {alumno}\")\n",
    "    for j, calificacion in enumerate(alumno):\n",
    "        print(f\"Calificacion #{j+1}: {calificacion}\")"
   ]
  },
  {
   "cell_type": "code",
   "execution_count": 66,
   "metadata": {},
   "outputs": [
    {
     "name": "stdout",
     "output_type": "stream",
     "text": [
      "Alumno 1\n",
      "Calificacion #1: 10\n",
      "Calificacion #2: 9\n",
      "Calificacion #3: 8\n",
      "Calificacion #4: 9\n",
      "Calificacion #5: 10\n",
      "Alumno 2\n",
      "Calificacion #1: 9\n",
      "Calificacion #2: 8\n",
      "Calificacion #3: 10\n",
      "Calificacion #4: 3\n",
      "Calificacion #5: 10\n",
      "Alumno 3\n",
      "Calificacion #1: 10\n",
      "Calificacion #2: 9\n",
      "Calificacion #3: 8\n",
      "Calificacion #4: 8.5\n",
      "Calificacion #5: 7\n"
     ]
    }
   ],
   "source": [
    "calificaciones = [[10, 9, 8, 9, 10],\n",
    "                  [9, 8, 10, 3, 10],\n",
    "                  [10, 9, 8, 8.5, 7]]\n",
    "\n",
    "for i in range(len(calificaciones)):\n",
    "    print(f\"Alumno {i+1}\")\n",
    "    for j in range(len(calificaciones[i])):\n",
    "        print(f\"Calificacion #{j+1}: {calificaciones[i][j]}\")"
   ]
  },
  {
   "cell_type": "code",
   "execution_count": 67,
   "metadata": {},
   "outputs": [
    {
     "name": "stdout",
     "output_type": "stream",
     "text": [
      "['Hyundai', 'Kia', 'Subaru']\n",
      "['Kia', 'Subaru', 'Jaguar']\n",
      "['Subaru', 'Jaguar', 'BMW']\n"
     ]
    }
   ],
   "source": [
    "# Slicing -> sacar un subconjunto de una lista [inicio:fin] \n",
    "# fin es no inclusivo [inicio, fin)\n",
    "\n",
    "marcas_autos = ['Hyundai', 'Kia', 'Subaru', 'Jaguar', 'BMW']\n",
    "\n",
    "print(marcas_autos[0:3]) # los 3 primeros elementos de la lista\n",
    "print(marcas_autos[1:4]) # Kia, Subaru, Jaguar\n",
    "print(marcas_autos[-3:]) # Los 3 ultimos elementos de una lista"
   ]
  },
  {
   "cell_type": "code",
   "execution_count": 68,
   "metadata": {},
   "outputs": [
    {
     "name": "stdout",
     "output_type": "stream",
     "text": [
      "[10, 9, 10]\n"
     ]
    }
   ],
   "source": [
    "calificaciones = [[10, 9, 8, 9, 10],\n",
    "                  [9, 8, 10, 3, 10],\n",
    "                  [10, 9, 8, 8.5]]\n",
    "# np.array (dim(3,3))\n",
    "# np.array (calificaciones), valores faltantes como nan\n",
    "# np.arrays [:, 0] -> numpy[fila_inicio:fila_final, col]\n",
    "cal_col = []\n",
    "for i in range(len(calificaciones)):\n",
    "    cal_col.append(calificaciones[i][0])\n",
    "\n",
    "print(cal_col)"
   ]
  },
  {
   "cell_type": "code",
   "execution_count": 69,
   "metadata": {},
   "outputs": [
    {
     "name": "stdout",
     "output_type": "stream",
     "text": [
      "[1, 4, 9, 16, 25, 36, 49, 64, 81, 100]\n",
      "[1, 4, 9, 16, 25, 36, 49, 64, 81, 100]\n"
     ]
    }
   ],
   "source": [
    "# List comprehension (generar una lista de manera dinamica en una sola instruccion)\n",
    "cuadrados = [numero**2 for numero in range(1, 11)]\n",
    "print(cuadrados)\n",
    "\n",
    "cuadrados = []\n",
    "for numero in range(1, 11):\n",
    "    cuadrados.append(numero**2)\n",
    "print(cuadrados)"
   ]
  },
  {
   "cell_type": "code",
   "execution_count": 70,
   "metadata": {},
   "outputs": [
    {
     "name": "stdout",
     "output_type": "stream",
     "text": [
      "['Ramiro', 'Pedro', 'Juan', 'Juan']\n",
      "{'Ramiro', 'Pedro', 'Juan'}\n",
      "set_profesores.union(set_nombres)={'Ramiro', 'Daniel', 'Diego', 'Pedro', 'Juan'}\n",
      "set_profesores.difference(set_nombres)={'Diego', 'Daniel'}\n",
      "set_nombres.difference(set_profesores)={'Pedro', 'Juan'}\n",
      "set_nombres.intersection(set_profesores)={'Ramiro'}\n"
     ]
    }
   ],
   "source": [
    "'''\n",
    "Estructura de Dato\n",
    "SET (Conjunto)\n",
    "Es un conjunto se asemeja mucho a una lista, con la diferencia de que no admite dupliocados\n",
    "\n",
    "Declaracion de un set\n",
    "nombre_set = {}\n",
    "\n",
    "Definir un set\n",
    "nombre_set = {valor1, valor2, valor3}\n",
    "\n",
    "Operaciones de conjuntos\n",
    "\n",
    "- Union -> unir 2 conjuntos conjunto1.union(conjunto2)\n",
    "- Diferencia -> cuales elementos son diferentes entre 2 conjuntos\n",
    "conjunto1.difference(conjunto2)\n",
    "'''\n",
    "\n",
    "lista_nombres = [\"Ramiro\", \"Pedro\", \"Juan\", \"Juan\"]\n",
    "print(lista_nombres)\n",
    "\n",
    "set_nombres = set(lista_nombres)\n",
    "print(set_nombres)\n",
    "\n",
    "set_profesores = {\"Ramiro\", \"Diego\", \"Daniel\"}\n",
    "# La union de los conjuntos (sin duplicados)\n",
    "# No garantizan orden de aparicion de los objetos\n",
    "nuevo_set = set_profesores.union(set_nombres)\n",
    "print(f\"{set_profesores.union(set_nombres)=}\")\n",
    "\n",
    "# Los que tiene set_profesores y no set_nombres\n",
    "nuevo_set = set_profesores.difference(set_nombres)\n",
    "print(f\"{set_profesores.difference(set_nombres)=}\")\n",
    "\n",
    "# Los que tiene set_nombres y no set_profesores\n",
    "nuevo_set = set_nombres.difference(set_profesores)\n",
    "print(f\"{set_nombres.difference(set_profesores)=}\")\n",
    "\n",
    "# Interseccion (los elementos que tienen en comun estos 2 conjuntos)\n",
    "nuevo_set = set_nombres.intersection(set_profesores)\n",
    "print(f\"{set_nombres.intersection(set_profesores)=}\")\n",
    "\n"
   ]
  },
  {
   "cell_type": "code",
   "execution_count": 73,
   "metadata": {},
   "outputs": [
    {
     "name": "stdout",
     "output_type": "stream",
     "text": [
      "{3.3, 3, 4, 5, 8, 10}\n",
      "{3.3, 3, 4, 7}\n",
      "3.3\n",
      "3\n",
      "4\n",
      "7\n",
      "True\n"
     ]
    }
   ],
   "source": [
    "calificaciones1 = {3.3, 3, 4}\n",
    "calificaciones2 = {5, 10, 8}\n",
    "\n",
    "nuevo_set = calificaciones1.union(calificaciones2)\n",
    "print(nuevo_set)\n",
    "\n",
    "# Listas añadiamos elementos nuevos a la lista .append(valor)\n",
    "# Set añadir un elemento al set .add(valor)\n",
    "\n",
    "calificaciones1.add(7)\n",
    "print(calificaciones1)\n",
    "\n",
    "while True:\n",
    "    try:\n",
    "        valor = calificaciones1.pop()\n",
    "        print(valor)\n",
    "    except KeyError:\n",
    "        break\n",
    "\n",
    "calificaciones2 = {5, 10, 8}\n",
    "\n",
    "# Verificar la pertenencia de un elemento o elementos al conjunto\n",
    "print(calificaciones2.issuperset({5, 8}))"
   ]
  },
  {
   "cell_type": "code",
   "execution_count": 79,
   "metadata": {},
   "outputs": [
    {
     "name": "stdout",
     "output_type": "stream",
     "text": [
      "(300, 300)\n",
      "300\n"
     ]
    }
   ],
   "source": [
    "'''\n",
    "Tuplas/Tuples\n",
    "Hay veces que queremos crear una lista cuyos valores\n",
    "no queremos que cambien durante la ejecucion del programa\n",
    "Python se refiere a esta estructura como \"inmutable\"\n",
    "\n",
    "Declaracion\n",
    "nombre_tupla = (valor1, valor2, ..., valorn)\n",
    "\n",
    "Acceso a los valores\n",
    "A traves del indice\n",
    "'''\n",
    "\n",
    "height = 300\n",
    "width = 300\n",
    "\n",
    "dimensiones_imagen = (height, width)\n",
    "print(dimensiones_imagen)\n",
    "\n",
    "print(dimensiones_imagen[0]) # acceso a los elementos por el indice\n",
    "# dimensiones_imagen[0] = 500 esta operacion no funciona ya que la tupla es inmutable"
   ]
  },
  {
   "cell_type": "code",
   "execution_count": 96,
   "metadata": {},
   "outputs": [
    {
     "name": "stdout",
     "output_type": "stream",
     "text": [
      "Ramiro Sandoval\n",
      "1719999991: Ramiro Sandoval\n",
      "0999999999: Tim Peters\n",
      "[[2, 2], [3, 3], [4, 4]]\n",
      "black\n",
      "Propiedad color: black\n",
      "Propiedad shape: (3, 2)\n",
      "Propiedad valores: [[2, 2], [3, 3], [4, 4]]\n",
      "Propiedad 0: Indice\n",
      "dict_keys(['color', 'shape', 'valores', 0])\n",
      "dict_values(['black', (3, 2), [[2, 2], [3, 3], [4, 4]], 'Indice'])\n",
      "{'color': 'black', 'shape': (3, 2), 'valores': [[2, 2], [3, 3], [4, 4]]}\n",
      "None\n",
      "black\n"
     ]
    }
   ],
   "source": [
    "'''\n",
    "Diccionarios\n",
    "C++ -> Map\n",
    "Asociacion entre una clave -> valor\n",
    "Si fueramos al diccionario\n",
    "\"Pelota\" -> \"Objeto esferico que es comunmente usado en deportes\"\n",
    "\n",
    "Como declarar diccionarios\n",
    "nombre_diccionario = {}\n",
    "\n",
    "Como definir diccionario\n",
    "nombre_diccionario = {clave1:valor1, clave2:valor2}\n",
    "\n",
    "Añadir/modificar elementos a un diccionario\n",
    "nombre_diccionario[clave_añadir/clave_modificar] = valor\n",
    "\n",
    "Las claves tienen que ser unicas\n",
    "'''\n",
    "\n",
    "personas = {'1719999991': 'Ramiro Sandoval',\n",
    "            '0999999999': 'Tim Peters'}\n",
    "\n",
    "# Acceder al valor conociendo la clave\n",
    "print(personas['1719999991'])\n",
    "\n",
    "# Como puedo a travesar un diccionario\n",
    "for cedula in personas:\n",
    "    nombre = personas[cedula]\n",
    "    print(f\"{cedula}: {nombre}\")\n",
    "\n",
    "# JSON\n",
    "propiedades = {'color': 'black', \n",
    "               'shape': (3, 2),\n",
    "               'valores': [[2,2], [3,3], [4,4]]}\n",
    "\n",
    "print(propiedades['valores'])\n",
    "print(propiedades['color'])\n",
    "\n",
    "propiedades[0] = \"Indice\"\n",
    "\n",
    "for propiedad in propiedades:\n",
    "    print(f'Propiedad {propiedad}: {propiedades[propiedad]}')\n",
    "\n",
    "print(propiedades.keys()) # ver las claves presentes\n",
    "print(propiedades.values()) # ver los valores presentes\n",
    "\n",
    "del propiedades[0] # eliminar un elemento a traves de la clave\n",
    "print(propiedades)\n",
    "\n",
    "# print(propiedades['salario']) Si no hay una clave en el diccionario va a un KeyError\n",
    "\n",
    "print(propiedades.get('salario')) # Si no esta presente la clave, retorna un None (NULL)\n",
    "\n",
    "if propiedades.get('salario') is not None:\n",
    "    print(propiedades['salario']/1000)\n",
    "\n",
    "print(propiedades.get('color'))"
   ]
  },
  {
   "cell_type": "code",
   "execution_count": 102,
   "metadata": {},
   "outputs": [
    {
     "name": "stdout",
     "output_type": "stream",
     "text": [
      "100: {'100': [120, 115, 112], '101': [140, 130, 132], '220': [90, 30, 80]} | Prom Ventas: 115.66666666666667\n",
      "101: {'100': [120, 115, 112], '101': [140, 130, 132], '220': [90, 30, 80]} | Prom Ventas: 134.0\n",
      "220: {'100': [120, 115, 112], '101': [140, 130, 132], '220': [90, 30, 80]} | Prom Ventas: 66.66666666666667\n",
      "Total del Inventario de 2024/02 es: 150\n",
      "Promedio del Inventario de 2024/02 es: 50.0\n",
      "Total del Inventario de 2024/03 es: 180\n",
      "Promedio del Inventario de 2024/03 es: 60.0\n",
      "Total del Inventario de 2024/04 es: 260\n",
      "Promedio del Inventario de 2024/04 es: 86.66666666666667\n"
     ]
    }
   ],
   "source": [
    "ventas = {\n",
    "    '100': [120, 115, 112],\n",
    "    '101': [140, 130, 132],\n",
    "    '220': [90, 30, 80]\n",
    "}\n",
    "\n",
    "for codigo in ventas:\n",
    "    ventas_ = ventas[codigo]\n",
    "    prom_ventas = sum(ventas_)/len(ventas_)\n",
    "    print(f\"{codigo}: {ventas} | Prom Ventas: {prom_ventas}\")\n",
    "\n",
    "inventarios = {\n",
    "    '2024/02': {'100': 30,\n",
    "                '200': 40,\n",
    "                '300': 80 },\n",
    "\n",
    "    '2024/03': {'100': 50,\n",
    "                '200': 30,\n",
    "                '300': 100},\n",
    "\n",
    "    '2024/04': {'100': 80,\n",
    "                '200': 30,\n",
    "                '300': 150 }\n",
    "}\n",
    "\n",
    "for fecha in inventarios:\n",
    "    #print(fecha)\n",
    "    total_inv = 0\n",
    "    for codigo in inventarios[fecha]:\n",
    "        cantidad = inventarios[fecha][codigo]\n",
    "        total_inv += cantidad\n",
    "        #print(f\"{codigo}: {cantidad}\")\n",
    "    n_codigos = len(inventarios[fecha]) # decirme cuantos codigos hay en ese mes\n",
    "    \n",
    "    print(f\"Total del Inventario de {fecha} es: {total_inv}\")\n",
    "    print(f\"Promedio del Inventario de {fecha} es: {total_inv/n_codigos}\")"
   ]
  }
 ],
 "metadata": {
  "kernelspec": {
   "display_name": "Python 3",
   "language": "python",
   "name": "python3"
  },
  "language_info": {
   "codemirror_mode": {
    "name": "ipython",
    "version": 3
   },
   "file_extension": ".py",
   "mimetype": "text/x-python",
   "name": "python",
   "nbconvert_exporter": "python",
   "pygments_lexer": "ipython3",
   "version": "3.11.2"
  }
 },
 "nbformat": 4,
 "nbformat_minor": 2
}
