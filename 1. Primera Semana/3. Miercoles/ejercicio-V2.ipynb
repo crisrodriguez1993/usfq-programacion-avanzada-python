{
 "cells": [
  {
   "cell_type": "code",
   "execution_count": 8,
   "metadata": {},
   "outputs": [
    {
     "name": "stdout",
     "output_type": "stream",
     "text": [
      "nombre: Ana horas_estudio: 4 metodo_estudio: Visual\n",
      "nombre: Luis horas_estudio: 6 metodo_estudio: Auditivo\n",
      "nombre: Marta horas_estudio: 3 metodo_estudio: Lectura\n",
      "nombre: Carlos horas_estudio: 5 metodo_estudio: Visual\n",
      "nombre: Lucía horas_estudio: 2 metodo_estudio: Lectura\n"
     ]
    }
   ],
   "source": [
    "encuesta = [\n",
    "    {\"nombre\": \"Ana\", \"horas_estudio\": 4, \"metodo_estudio\": \"Visual\"},\n",
    "    {\"nombre\": \"Luis\", \"horas_estudio\": 6, \"metodo_estudio\": \"Auditivo\"},\n",
    "    {\"nombre\": \"Marta\", \"horas_estudio\": 3, \"metodo_estudio\": \"Lectura\"},\n",
    "    {\"nombre\": \"Carlos\", \"horas_estudio\": 5, \"metodo_estudio\": \"Visual\"},\n",
    "    {\"nombre\": \"Lucía\", \"horas_estudio\": 2, \"metodo_estudio\": \"Lectura\"}\n",
    "]\n",
    "\n",
    "\n",
    "# Atravesar un diccionario\n",
    "\n",
    "for diccionario in encuesta:\n",
    "    nombre = diccionario[\"nombre\"]\n",
    "    horas_estudio = diccionario[\"horas_estudio\"]\n",
    "    metodo_estudio = diccionario[\"metodo_estudio\"]\n",
    "    print(f\"nombre: {nombre} horas_estudio: {horas_estudio} metodo_estudio: {metodo_estudio}\")\n"
   ]
  },
  {
   "cell_type": "code",
   "execution_count": 9,
   "metadata": {},
   "outputs": [
    {
     "name": "stdout",
     "output_type": "stream",
     "text": [
      "El número de horas de estudio total es: 20 y el promedio de estudio es 4.0\n"
     ]
    }
   ],
   "source": [
    "# 1. Promedio horas estudio\n",
    "\n",
    "#Declarar una variable de suma de horas\n",
    "suma_horas = 0\n",
    "#Declarar un contador de iteración\n",
    "cont_estudiantes = 0\n",
    "\n",
    "for diccionario in encuesta:\n",
    "    horas_estudio = diccionario[\"horas_estudio\"]\n",
    "    suma_horas += horas_estudio\n",
    "    cont_estudiantes += 1\n",
    "\n",
    "print(f\"El número de horas de estudio total es: {suma_horas} y el promedio de estudio es {suma_horas/cont_estudiantes}\")"
   ]
  },
  {
   "cell_type": "code",
   "execution_count": 27,
   "metadata": {},
   "outputs": [
    {
     "name": "stdout",
     "output_type": "stream",
     "text": [
      "{'Visual': 2, 'Auditivo': 1, 'Lectura': 2}\n"
     ]
    }
   ],
   "source": [
    "# 2. Encontrar el método de estudio más popular\n",
    "\n",
    "# Variable de lista de estudio\n",
    "lista_metodo_estudio = []\n",
    "\n",
    "for diccionario in encuesta:\n",
    "    metodo_estudio = diccionario.get('metodo_estudio')\n",
    "    lista_metodo_estudio.append(metodo_estudio)\n",
    "\n",
    "# Inicializar un diccionario para contar la frecuencia de cada método de estudio\n",
    "frecuencia_metodos = {}\n",
    "\n",
    "for metodo in lista_metodo_estudio:\n",
    "    if metodo in frecuencia_metodos:\n",
    "        frecuencia_metodos[metodo] += 1\n",
    "    else:\n",
    "        frecuencia_metodos[metodo] = 1\n",
    "\n",
    "print(frecuencia_metodos)"
   ]
  },
  {
   "cell_type": "code",
   "execution_count": 24,
   "metadata": {},
   "outputs": [
    {
     "name": "stdout",
     "output_type": "stream",
     "text": [
      "['Luis', 'Carlos']\n"
     ]
    }
   ],
   "source": [
    "# 3. Que estudiantes estudian más que el promedio\n",
    "\n",
    "encuesta = [\n",
    "    {\"nombre\": \"Ana\", \"horas_estudio\": 4, \"metodo_estudio\": \"Visual\"},\n",
    "    {\"nombre\": \"Luis\", \"horas_estudio\": 6, \"metodo_estudio\": \"Auditivo\"},\n",
    "    {\"nombre\": \"Marta\", \"horas_estudio\": 3, \"metodo_estudio\": \"Lectura\"},\n",
    "    {\"nombre\": \"Carlos\", \"horas_estudio\": 5, \"metodo_estudio\": \"Visual\"},\n",
    "    {\"nombre\": \"Lucía\", \"horas_estudio\": 2, \"metodo_estudio\": \"Lectura\"}\n",
    "]\n",
    "\n",
    "#Declarar una variable de suma de horas\n",
    "suma_horas = 0\n",
    "#Declarar un contador de iteración\n",
    "cont_estudiantes = 0\n",
    "\n",
    "for diccionario in encuesta:\n",
    "    horas_estudio = diccionario[\"horas_estudio\"]\n",
    "    suma_horas += horas_estudio\n",
    "    cont_estudiantes += 1\n",
    "\n",
    "promedio_estudio = suma_horas / cont_estudiantes\n",
    "\n",
    "#Creo un arreglo para adjuntar los nombres de personas:\n",
    "personas_mayores_promedio = []\n",
    "\n",
    "for persona in encuesta:\n",
    "    if persona[\"horas_estudio\"] > promedio_estudio:\n",
    "        personas_mayores_promedio.append(persona[\"nombre\"])\n",
    "\n",
    "print(personas_mayores_promedio)\n",
    "\n"
   ]
  },
  {
   "cell_type": "code",
   "execution_count": null,
   "metadata": {},
   "outputs": [],
   "source": [
    "## Investigar acerca de list comprenhesion.\n",
    "\n"
   ]
  }
 ],
 "metadata": {
  "kernelspec": {
   "display_name": "Python 3",
   "language": "python",
   "name": "python3"
  },
  "language_info": {
   "codemirror_mode": {
    "name": "ipython",
    "version": 3
   },
   "file_extension": ".py",
   "mimetype": "text/x-python",
   "name": "python",
   "nbconvert_exporter": "python",
   "pygments_lexer": "ipython3",
   "version": "3.12.1"
  }
 },
 "nbformat": 4,
 "nbformat_minor": 2
}
