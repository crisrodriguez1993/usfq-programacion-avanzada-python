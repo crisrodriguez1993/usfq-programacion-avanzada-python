{
 "cells": [
  {
   "cell_type": "code",
   "execution_count": 1,
   "metadata": {},
   "outputs": [
    {
     "name": "stdout",
     "output_type": "stream",
     "text": [
      "El promedio de horas de estudio es: 4.00\n"
     ]
    }
   ],
   "source": [
    "encuesta = [\n",
    "    {\"nombre\": \"Ana\", \"horas_estudio\": 4, \"metodo_estudio\": \"Visual\"},\n",
    "    {\"nombre\": \"Luis\", \"horas_estudio\": 6, \"metodo_estudio\": \"Auditivo\"},\n",
    "    {\"nombre\": \"Marta\", \"horas_estudio\": 3, \"metodo_estudio\": \"Lectura\"},\n",
    "    {\"nombre\": \"Carlos\", \"horas_estudio\": 5, \"metodo_estudio\": \"Visual\"},\n",
    "    {\"nombre\": \"Lucía\", \"horas_estudio\": 2, \"metodo_estudio\": \"Lectura\"}\n",
    "]\n",
    "suma_horas = 0\n",
    "conteo_personas = 0\n",
    "\n",
    "for persona in encuesta:\n",
    "    suma_horas += persona[\"horas_estudio\"]\n",
    "    conteo_personas += 1\n",
    "\n",
    "# Calcular el promedio\n",
    "promedio_horas = suma_horas / conteo_personas\n",
    "\n",
    "# Imprimir el resultado\n",
    "print(f\"El promedio de horas de estudio es: {promedio_horas:.2f}\")"
   ]
  },
  {
   "cell_type": "code",
   "execution_count": 2,
   "metadata": {},
   "outputs": [
    {
     "name": "stdout",
     "output_type": "stream",
     "text": [
      "El método de estudio más popular es: Visual\n"
     ]
    }
   ],
   "source": [
    "encuesta = [\n",
    "    {\"nombre\": \"Ana\", \"horas_estudio\": 4, \"metodo_estudio\": \"Visual\"},\n",
    "    {\"nombre\": \"Luis\", \"horas_estudio\": 6, \"metodo_estudio\": \"Auditivo\"},\n",
    "    {\"nombre\": \"Marta\", \"horas_estudio\": 3, \"metodo_estudio\": \"Lectura\"},\n",
    "    {\"nombre\": \"Carlos\", \"horas_estudio\": 5, \"metodo_estudio\": \"Visual\"},\n",
    "    {\"nombre\": \"Lucía\", \"horas_estudio\": 2, \"metodo_estudio\": \"Lectura\"}\n",
    "]\n",
    "\n",
    "# Inicializar un diccionario para contar la frecuencia de cada método de estudio\n",
    "metodo_frecuencia = {}\n",
    "\n",
    "# Recorrer cada elemento en la lista encuesta\n",
    "for persona in encuesta:\n",
    "    metodo = persona[\"metodo_estudio\"]\n",
    "    if metodo in metodo_frecuencia:\n",
    "        metodo_frecuencia[metodo] += 1\n",
    "    else:\n",
    "        metodo_frecuencia[metodo] = 1\n",
    "\n",
    "# Encontrar el método de estudio más popular\n",
    "metodo_mas_popular = None\n",
    "max_frecuencia = 0\n",
    "\n",
    "for metodo, frecuencia in metodo_frecuencia.items():\n",
    "    if frecuencia > max_frecuencia:\n",
    "        max_frecuencia = frecuencia\n",
    "        metodo_mas_popular = metodo\n",
    "\n",
    "# Imprimir el resultado\n",
    "print(f\"El método de estudio más popular es: {metodo_mas_popular}\")"
   ]
  }
 ],
 "metadata": {
  "kernelspec": {
   "display_name": "Python 3",
   "language": "python",
   "name": "python3"
  },
  "language_info": {
   "codemirror_mode": {
    "name": "ipython",
    "version": 3
   },
   "file_extension": ".py",
   "mimetype": "text/x-python",
   "name": "python",
   "nbconvert_exporter": "python",
   "pygments_lexer": "ipython3",
   "version": "3.12.1"
  }
 },
 "nbformat": 4,
 "nbformat_minor": 2
}
