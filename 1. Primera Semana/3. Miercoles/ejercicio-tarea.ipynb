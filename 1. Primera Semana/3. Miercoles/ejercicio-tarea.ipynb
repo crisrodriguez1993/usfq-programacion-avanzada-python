{
 "cells": [
  {
   "cell_type": "markdown",
   "metadata": {},
   "source": [
    "Analizar datos de una encuesta sobre los hábitos de estudio de los estudiantes posgrado. Cada estudiante ha respondido preguntas sobre cuántas horas estudian por día y su método preferido de estudio\n",
    "\n",
    "1. Calcular el promedio de horas de estudio\n",
    "2. Encontrar el método de estudio más popular\n",
    "3. Identificar estudiantes que estudian más que el promedio"
   ]
  },
  {
   "cell_type": "code",
   "execution_count": 1,
   "metadata": {},
   "outputs": [],
   "source": [
    "# Nesting (combinacion de diferentes estructuras de datos)\n",
    "# Lista de respuestas de la encuesta\n",
    "encuesta = [\n",
    "    {\"nombre\": \"Ana\", \"horas_estudio\": 4, \"metodo_estudio\": \"Visual\"},\n",
    "    {\"nombre\": \"Luis\", \"horas_estudio\": 6, \"metodo_estudio\": \"Auditivo\"},\n",
    "    {\"nombre\": \"Marta\", \"horas_estudio\": 3, \"metodo_estudio\": \"Lectura\"},\n",
    "    {\"nombre\": \"Carlos\", \"horas_estudio\": 5, \"metodo_estudio\": \"Visual\"},\n",
    "    {\"nombre\": \"Lucía\", \"horas_estudio\": 2, \"metodo_estudio\": \"Lectura\"}\n",
    "]"
   ]
  }
 ],
 "metadata": {
  "kernelspec": {
   "display_name": "Python 3",
   "language": "python",
   "name": "python3"
  },
  "language_info": {
   "codemirror_mode": {
    "name": "ipython",
    "version": 3
   },
   "file_extension": ".py",
   "mimetype": "text/x-python",
   "name": "python",
   "nbconvert_exporter": "python",
   "pygments_lexer": "ipython3",
   "version": "3.11.2"
  }
 },
 "nbformat": 4,
 "nbformat_minor": 2
}
